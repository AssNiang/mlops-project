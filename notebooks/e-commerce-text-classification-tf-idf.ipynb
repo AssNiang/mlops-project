{
 "cells": [
  {
   "cell_type": "markdown",
   "metadata": {},
   "source": [
    "# Imports"
   ]
  },
  {
   "cell_type": "code",
   "execution_count": 49,
   "metadata": {},
   "outputs": [],
   "source": [
    "import time\n",
    "import os\n",
    "import psutil\n",
    "from loguru import logger\n",
    "import pendulum\n",
    "import pandas as pd\n",
    "import numpy as np\n",
    "import plotly.graph_objects as go\n",
    "from matplotlib import pyplot as plt\n",
    "import seaborn as sns\n",
    "\n",
    "import mlflow\n",
    "import mlflow.sklearn\n",
    "\n",
    "from sklearn import metrics\n",
    "from sklearn.metrics import accuracy_score\n",
    "from sklearn.model_selection import train_test_split, ParameterGrid\n",
    "from sklearn.feature_extraction.text import TfidfVectorizer\n",
    "from sklearn import svm\n",
    "from sklearn.ensemble import AdaBoostClassifier, RandomForestClassifier\n",
    "from sklearn.linear_model import LogisticRegression, RidgeClassifier, SGDClassifier\n",
    "from sklearn.neighbors import KNeighborsClassifier\n",
    "from sklearn.tree import DecisionTreeClassifier\n",
    "from xgboost import XGBClassifier\n",
    "\n",
    "import sys\n",
    "from pathlib import Path\n",
    "\n",
    "sys.path.append(str(Path.cwd().parent) if str(Path.cwd().parent).endswith(\"mlops-project\") else str(Path.cwd()))\n",
    "\n",
    "from src.preprocess import *\n",
    "from src.explore import *\n",
    "from src.train import *\n",
    "from src.make_dataset import load_data\n",
    "from src.utils import save_object_with_pickle\n",
    "from settings.params import MODEL_PARAMS"
   ]
  },
  {
   "cell_type": "code",
   "execution_count": 2,
   "metadata": {},
   "outputs": [],
   "source": [
    "# Set logging format\n",
    "log_fmt = \"<green>{time:YYYY-MM-DD HH:mm:ss.SSS!UTC}</green> | <level>{level: <8}</level> | <cyan>{name}</cyan>:<cyan>{function}</cyan>:<cyan>{line}</cyan> - {message}\"\n",
    "logger.configure(handlers=[{\"sink\": sys.stderr, \"format\": log_fmt}])\n",
    "\n",
    "# current date\n",
    "CURRENT_DATE = pendulum.now(tz=\"UTC\")"
   ]
  },
  {
   "cell_type": "code",
   "execution_count": 3,
   "metadata": {},
   "outputs": [
    {
     "name": "stderr",
     "output_type": "stream",
     "text": [
      "\u001b[32m2024-08-07 23:46:58.624\u001b[0m | \u001b[1mINFO    \u001b[0m | \u001b[36m__main__\u001b[0m:\u001b[36m<module>\u001b[0m:\u001b[36m8\u001b[0m - Start time: 1723074418.624326\n",
      "\u001b[32m2024-08-07 23:46:58.626\u001b[0m | \u001b[1mINFO    \u001b[0m | \u001b[36m__main__\u001b[0m:\u001b[36m<module>\u001b[0m:\u001b[36m9\u001b[0m - Process details: psutil.Process(pid=592709, name='python3.10', status='running', started='23:46:49')\n"
     ]
    }
   ],
   "source": [
    "# Recording the starting time, complemented with a stopping time check in the end to compute process runtime\n",
    "start = time.time()\n",
    "\n",
    "# Class representing the OS process and having memory_info() method to compute process memory usage\n",
    "process = psutil.Process(os.getpid())\n",
    "\n",
    "# Log the starting time and process details\n",
    "logger.info(f\"Start time: {start}\")\n",
    "logger.info(f\"Process details: {process}\")"
   ]
  },
  {
   "cell_type": "markdown",
   "metadata": {},
   "source": [
    "# Data"
   ]
  },
  {
   "cell_type": "code",
   "execution_count": 47,
   "metadata": {},
   "outputs": [
    {
     "data": {
      "text/plain": [
       "'/home/ass-niang/Desktop/mlops-project'"
      ]
     },
     "execution_count": 47,
     "metadata": {},
     "output_type": "execute_result"
    }
   ],
   "source": [
    "project_dir = str(Path.cwd().parent) if str(Path.cwd().parent).endswith(\"mlops-project\") else str(Path.cwd())\n",
    "project_dir"
   ]
  },
  {
   "cell_type": "markdown",
   "metadata": {},
   "source": [
    "## Load data"
   ]
  },
  {
   "cell_type": "code",
   "execution_count": 4,
   "metadata": {},
   "outputs": [
    {
     "name": "stderr",
     "output_type": "stream",
     "text": [
      "\u001b[32m2024-08-07 23:46:58.645\u001b[0m | \u001b[1mINFO    \u001b[0m | \u001b[36msrc.make_dataset\u001b[0m:\u001b[36mload_data\u001b[0m:\u001b[36m23\u001b[0m - Dataset to load: /home/ass-niang/Desktop/mlops-project/data/ecommerceDataset.csv\n"
     ]
    },
    {
     "name": "stderr",
     "output_type": "stream",
     "text": [
      "\u001b[32m2024-08-07 23:46:59.093\u001b[0m | \u001b[1mINFO    \u001b[0m | \u001b[36msrc.make_dataset\u001b[0m:\u001b[36mload_data\u001b[0m:\u001b[36m32\u001b[0m - Memory usage: 0.77 MB\n",
      "\u001b[32m2024-08-07 23:46:59.094\u001b[0m | \u001b[1mINFO    \u001b[0m | \u001b[36msrc.make_dataset\u001b[0m:\u001b[36mload_data\u001b[0m:\u001b[36m34\u001b[0m - Dataset shape: (50425, 2)\n"
     ]
    },
    {
     "data": {
      "text/html": [
       "<div>\n",
       "<style scoped>\n",
       "    .dataframe tbody tr th:only-of-type {\n",
       "        vertical-align: middle;\n",
       "    }\n",
       "\n",
       "    .dataframe tbody tr th {\n",
       "        vertical-align: top;\n",
       "    }\n",
       "\n",
       "    .dataframe thead th {\n",
       "        text-align: right;\n",
       "    }\n",
       "</style>\n",
       "<table border=\"1\" class=\"dataframe\">\n",
       "  <thead>\n",
       "    <tr style=\"text-align: right;\">\n",
       "      <th></th>\n",
       "      <th>description</th>\n",
       "      <th>label</th>\n",
       "    </tr>\n",
       "  </thead>\n",
       "  <tbody>\n",
       "    <tr>\n",
       "      <th>0</th>\n",
       "      <td>Paper Plane Design Framed Wall Hanging Motivat...</td>\n",
       "      <td>Household</td>\n",
       "    </tr>\n",
       "    <tr>\n",
       "      <th>1</th>\n",
       "      <td>SAF 'Floral' Framed Painting (Wood, 30 inch x ...</td>\n",
       "      <td>Household</td>\n",
       "    </tr>\n",
       "    <tr>\n",
       "      <th>2</th>\n",
       "      <td>SAF 'UV Textured Modern Art Print Framed' Pain...</td>\n",
       "      <td>Household</td>\n",
       "    </tr>\n",
       "    <tr>\n",
       "      <th>3</th>\n",
       "      <td>SAF Flower Print Framed Painting (Synthetic, 1...</td>\n",
       "      <td>Household</td>\n",
       "    </tr>\n",
       "    <tr>\n",
       "      <th>4</th>\n",
       "      <td>Incredible Gifts India Wooden Happy Birthday U...</td>\n",
       "      <td>Household</td>\n",
       "    </tr>\n",
       "    <tr>\n",
       "      <th>...</th>\n",
       "      <td>...</td>\n",
       "      <td>...</td>\n",
       "    </tr>\n",
       "    <tr>\n",
       "      <th>50420</th>\n",
       "      <td>Strontium MicroSD Class 10 8GB Memory Card (Bl...</td>\n",
       "      <td>Electronics</td>\n",
       "    </tr>\n",
       "    <tr>\n",
       "      <th>50421</th>\n",
       "      <td>CrossBeats Wave Waterproof Bluetooth Wireless ...</td>\n",
       "      <td>Electronics</td>\n",
       "    </tr>\n",
       "    <tr>\n",
       "      <th>50422</th>\n",
       "      <td>Karbonn Titanium Wind W4 (White) Karbonn Titan...</td>\n",
       "      <td>Electronics</td>\n",
       "    </tr>\n",
       "    <tr>\n",
       "      <th>50423</th>\n",
       "      <td>Samsung Guru FM Plus (SM-B110E/D, Black) Colou...</td>\n",
       "      <td>Electronics</td>\n",
       "    </tr>\n",
       "    <tr>\n",
       "      <th>50424</th>\n",
       "      <td>Micromax Canvas Win W121 (White)</td>\n",
       "      <td>Electronics</td>\n",
       "    </tr>\n",
       "  </tbody>\n",
       "</table>\n",
       "<p>50425 rows × 2 columns</p>\n",
       "</div>"
      ],
      "text/plain": [
       "                                             description        label\n",
       "0      Paper Plane Design Framed Wall Hanging Motivat...    Household\n",
       "1      SAF 'Floral' Framed Painting (Wood, 30 inch x ...    Household\n",
       "2      SAF 'UV Textured Modern Art Print Framed' Pain...    Household\n",
       "3      SAF Flower Print Framed Painting (Synthetic, 1...    Household\n",
       "4      Incredible Gifts India Wooden Happy Birthday U...    Household\n",
       "...                                                  ...          ...\n",
       "50420  Strontium MicroSD Class 10 8GB Memory Card (Bl...  Electronics\n",
       "50421  CrossBeats Wave Waterproof Bluetooth Wireless ...  Electronics\n",
       "50422  Karbonn Titanium Wind W4 (White) Karbonn Titan...  Electronics\n",
       "50423  Samsung Guru FM Plus (SM-B110E/D, Black) Colou...  Electronics\n",
       "50424                   Micromax Canvas Win W121 (White)  Electronics\n",
       "\n",
       "[50425 rows x 2 columns]"
      ]
     },
     "execution_count": 4,
     "metadata": {},
     "output_type": "execute_result"
    }
   ],
   "source": [
    "data = load_data(project_dir + \"/data/ecommerceDataset.csv\")\n",
    "data"
   ]
  },
  {
   "cell_type": "markdown",
   "metadata": {},
   "source": [
    "## Missing & Duplicate observations values"
   ]
  },
  {
   "cell_type": "code",
   "execution_count": 5,
   "metadata": {},
   "outputs": [
    {
     "name": "stderr",
     "output_type": "stream",
     "text": [
      "\u001b[32m2024-08-07 23:46:59.167\u001b[0m | \u001b[1mINFO    \u001b[0m | \u001b[36msrc.preprocess\u001b[0m:\u001b[36mdrop_missing_and_duplicates\u001b[0m:\u001b[36m35\u001b[0m - Number of observations with missing values: 1\n",
      "\u001b[32m2024-08-07 23:46:59.168\u001b[0m | \u001b[1mINFO    \u001b[0m | \u001b[36msrc.preprocess\u001b[0m:\u001b[36mdrop_missing_and_duplicates\u001b[0m:\u001b[36m38\u001b[0m - Number of duplicate observations: 22622\n",
      "\u001b[32m2024-08-07 23:46:59.169\u001b[0m | \u001b[1mINFO    \u001b[0m | \u001b[36msrc.preprocess\u001b[0m:\u001b[36mdrop_missing_and_duplicates\u001b[0m:\u001b[36m41\u001b[0m - Dropping observations with missing values\n",
      "\u001b[32m2024-08-07 23:46:59.187\u001b[0m | \u001b[1mINFO    \u001b[0m | \u001b[36msrc.preprocess\u001b[0m:\u001b[36mdrop_missing_and_duplicates\u001b[0m:\u001b[36m45\u001b[0m - Dropping duplicate observations\n",
      "\u001b[32m2024-08-07 23:46:59.272\u001b[0m | \u001b[1mINFO    \u001b[0m | \u001b[36msrc.preprocess\u001b[0m:\u001b[36mdrop_missing_and_duplicates\u001b[0m:\u001b[36m49\u001b[0m - Resetting index\n",
      "\u001b[32m2024-08-07 23:46:59.273\u001b[0m | \u001b[1mINFO    \u001b[0m | \u001b[36msrc.preprocess\u001b[0m:\u001b[36mdrop_missing_and_duplicates\u001b[0m:\u001b[36m53\u001b[0m - Encoding of labels\n",
      "\u001b[32m2024-08-07 23:46:59.295\u001b[0m | \u001b[1mINFO    \u001b[0m | \u001b[36msrc.preprocess\u001b[0m:\u001b[36mdrop_missing_and_duplicates\u001b[0m:\u001b[36m63\u001b[0m - Dataset shape: (27802, 2)\n"
     ]
    },
    {
     "data": {
      "text/html": [
       "<div>\n",
       "<style scoped>\n",
       "    .dataframe tbody tr th:only-of-type {\n",
       "        vertical-align: middle;\n",
       "    }\n",
       "\n",
       "    .dataframe tbody tr th {\n",
       "        vertical-align: top;\n",
       "    }\n",
       "\n",
       "    .dataframe thead th {\n",
       "        text-align: right;\n",
       "    }\n",
       "</style>\n",
       "<table border=\"1\" class=\"dataframe\">\n",
       "  <thead>\n",
       "    <tr style=\"text-align: right;\">\n",
       "      <th></th>\n",
       "      <th>description</th>\n",
       "      <th>label</th>\n",
       "    </tr>\n",
       "  </thead>\n",
       "  <tbody>\n",
       "    <tr>\n",
       "      <th>0</th>\n",
       "      <td>Paper Plane Design Framed Wall Hanging Motivat...</td>\n",
       "      <td>1</td>\n",
       "    </tr>\n",
       "    <tr>\n",
       "      <th>1</th>\n",
       "      <td>SAF 'Floral' Framed Painting (Wood, 30 inch x ...</td>\n",
       "      <td>1</td>\n",
       "    </tr>\n",
       "    <tr>\n",
       "      <th>2</th>\n",
       "      <td>SAF 'UV Textured Modern Art Print Framed' Pain...</td>\n",
       "      <td>1</td>\n",
       "    </tr>\n",
       "    <tr>\n",
       "      <th>3</th>\n",
       "      <td>SAF Flower Print Framed Painting (Synthetic, 1...</td>\n",
       "      <td>1</td>\n",
       "    </tr>\n",
       "    <tr>\n",
       "      <th>4</th>\n",
       "      <td>Incredible Gifts India Wooden Happy Birthday U...</td>\n",
       "      <td>1</td>\n",
       "    </tr>\n",
       "    <tr>\n",
       "      <th>...</th>\n",
       "      <td>...</td>\n",
       "      <td>...</td>\n",
       "    </tr>\n",
       "    <tr>\n",
       "      <th>27797</th>\n",
       "      <td>Micromax Bharat 5 Plus Zero impact on visual d...</td>\n",
       "      <td>0</td>\n",
       "    </tr>\n",
       "    <tr>\n",
       "      <th>27798</th>\n",
       "      <td>Microsoft Lumia 550 8GB 4G Black Microsoft lum...</td>\n",
       "      <td>0</td>\n",
       "    </tr>\n",
       "    <tr>\n",
       "      <th>27799</th>\n",
       "      <td>Microsoft Lumia 535 (Black, 8GB) Colour:Black ...</td>\n",
       "      <td>0</td>\n",
       "    </tr>\n",
       "    <tr>\n",
       "      <th>27800</th>\n",
       "      <td>Karbonn Titanium Wind W4 (White) Karbonn Titan...</td>\n",
       "      <td>0</td>\n",
       "    </tr>\n",
       "    <tr>\n",
       "      <th>27801</th>\n",
       "      <td>Nokia Lumia 530 (Dual SIM, Grey) Colour:Grey  ...</td>\n",
       "      <td>0</td>\n",
       "    </tr>\n",
       "  </tbody>\n",
       "</table>\n",
       "<p>27802 rows × 2 columns</p>\n",
       "</div>"
      ],
      "text/plain": [
       "                                             description  label\n",
       "0      Paper Plane Design Framed Wall Hanging Motivat...      1\n",
       "1      SAF 'Floral' Framed Painting (Wood, 30 inch x ...      1\n",
       "2      SAF 'UV Textured Modern Art Print Framed' Pain...      1\n",
       "3      SAF Flower Print Framed Painting (Synthetic, 1...      1\n",
       "4      Incredible Gifts India Wooden Happy Birthday U...      1\n",
       "...                                                  ...    ...\n",
       "27797  Micromax Bharat 5 Plus Zero impact on visual d...      0\n",
       "27798  Microsoft Lumia 550 8GB 4G Black Microsoft lum...      0\n",
       "27799  Microsoft Lumia 535 (Black, 8GB) Colour:Black ...      0\n",
       "27800  Karbonn Titanium Wind W4 (White) Karbonn Titan...      0\n",
       "27801  Nokia Lumia 530 (Dual SIM, Grey) Colour:Grey  ...      0\n",
       "\n",
       "[27802 rows x 2 columns]"
      ]
     },
     "execution_count": 5,
     "metadata": {},
     "output_type": "execute_result"
    }
   ],
   "source": [
    "data = drop_missing_and_duplicates(data)\n",
    "data"
   ]
  },
  {
   "cell_type": "markdown",
   "metadata": {},
   "source": [
    "# Exploratory Data Analysis\n",
    "\n",
    "- [**Class Frequencies**](#Class-Frequencies)\n",
    "- [**Number of Characters**](#Number-of-Characters)\n",
    "- [**Number of Words**](#Number-of-Words)\n",
    "- [**Average Word-length**](#Average-Word-length)"
   ]
  },
  {
   "cell_type": "code",
   "execution_count": 6,
   "metadata": {},
   "outputs": [],
   "source": [
    "data_e, data_h, data_b, data_c = split_by_label(data)\n",
    "save_path = project_dir + \"/reports\""
   ]
  },
  {
   "cell_type": "markdown",
   "metadata": {},
   "source": [
    "## Class Frequencies"
   ]
  },
  {
   "cell_type": "code",
   "execution_count": 7,
   "metadata": {},
   "outputs": [
    {
     "name": "stderr",
     "output_type": "stream",
     "text": [
      "\u001b[32m2024-08-07 23:46:59.374\u001b[0m | \u001b[1mINFO    \u001b[0m | \u001b[36msrc.explore\u001b[0m:\u001b[36mvisualize_and_save_class_frequencies\u001b[0m:\u001b[36m65\u001b[0m - Saving figure in /home/ass-niang/Desktop/mlops-project/reports/class_frequencies_pie_chart.png\n"
     ]
    },
    {
     "data": {
      "application/vnd.plotly.v1+json": {
       "config": {
        "plotlyServerURL": "https://plot.ly"
       },
       "data": [
        {
         "hole": 0.5,
         "labels": [
          "Electronics",
          "Household",
          "Books",
          "Clothing & Accessories"
         ],
         "textinfo": "percent",
         "title": {
          "text": " "
         },
         "type": "pie",
         "values": [
          5308,
          10564,
          6256,
          5674
         ]
        }
       ],
       "layout": {
        "height": 500,
        "showlegend": true,
        "template": {
         "data": {
          "bar": [
           {
            "error_x": {
             "color": "#2a3f5f"
            },
            "error_y": {
             "color": "#2a3f5f"
            },
            "marker": {
             "line": {
              "color": "#E5ECF6",
              "width": 0.5
             },
             "pattern": {
              "fillmode": "overlay",
              "size": 10,
              "solidity": 0.2
             }
            },
            "type": "bar"
           }
          ],
          "barpolar": [
           {
            "marker": {
             "line": {
              "color": "#E5ECF6",
              "width": 0.5
             },
             "pattern": {
              "fillmode": "overlay",
              "size": 10,
              "solidity": 0.2
             }
            },
            "type": "barpolar"
           }
          ],
          "carpet": [
           {
            "aaxis": {
             "endlinecolor": "#2a3f5f",
             "gridcolor": "white",
             "linecolor": "white",
             "minorgridcolor": "white",
             "startlinecolor": "#2a3f5f"
            },
            "baxis": {
             "endlinecolor": "#2a3f5f",
             "gridcolor": "white",
             "linecolor": "white",
             "minorgridcolor": "white",
             "startlinecolor": "#2a3f5f"
            },
            "type": "carpet"
           }
          ],
          "choropleth": [
           {
            "colorbar": {
             "outlinewidth": 0,
             "ticks": ""
            },
            "type": "choropleth"
           }
          ],
          "contour": [
           {
            "colorbar": {
             "outlinewidth": 0,
             "ticks": ""
            },
            "colorscale": [
             [
              0,
              "#0d0887"
             ],
             [
              0.1111111111111111,
              "#46039f"
             ],
             [
              0.2222222222222222,
              "#7201a8"
             ],
             [
              0.3333333333333333,
              "#9c179e"
             ],
             [
              0.4444444444444444,
              "#bd3786"
             ],
             [
              0.5555555555555556,
              "#d8576b"
             ],
             [
              0.6666666666666666,
              "#ed7953"
             ],
             [
              0.7777777777777778,
              "#fb9f3a"
             ],
             [
              0.8888888888888888,
              "#fdca26"
             ],
             [
              1,
              "#f0f921"
             ]
            ],
            "type": "contour"
           }
          ],
          "contourcarpet": [
           {
            "colorbar": {
             "outlinewidth": 0,
             "ticks": ""
            },
            "type": "contourcarpet"
           }
          ],
          "heatmap": [
           {
            "colorbar": {
             "outlinewidth": 0,
             "ticks": ""
            },
            "colorscale": [
             [
              0,
              "#0d0887"
             ],
             [
              0.1111111111111111,
              "#46039f"
             ],
             [
              0.2222222222222222,
              "#7201a8"
             ],
             [
              0.3333333333333333,
              "#9c179e"
             ],
             [
              0.4444444444444444,
              "#bd3786"
             ],
             [
              0.5555555555555556,
              "#d8576b"
             ],
             [
              0.6666666666666666,
              "#ed7953"
             ],
             [
              0.7777777777777778,
              "#fb9f3a"
             ],
             [
              0.8888888888888888,
              "#fdca26"
             ],
             [
              1,
              "#f0f921"
             ]
            ],
            "type": "heatmap"
           }
          ],
          "heatmapgl": [
           {
            "colorbar": {
             "outlinewidth": 0,
             "ticks": ""
            },
            "colorscale": [
             [
              0,
              "#0d0887"
             ],
             [
              0.1111111111111111,
              "#46039f"
             ],
             [
              0.2222222222222222,
              "#7201a8"
             ],
             [
              0.3333333333333333,
              "#9c179e"
             ],
             [
              0.4444444444444444,
              "#bd3786"
             ],
             [
              0.5555555555555556,
              "#d8576b"
             ],
             [
              0.6666666666666666,
              "#ed7953"
             ],
             [
              0.7777777777777778,
              "#fb9f3a"
             ],
             [
              0.8888888888888888,
              "#fdca26"
             ],
             [
              1,
              "#f0f921"
             ]
            ],
            "type": "heatmapgl"
           }
          ],
          "histogram": [
           {
            "marker": {
             "pattern": {
              "fillmode": "overlay",
              "size": 10,
              "solidity": 0.2
             }
            },
            "type": "histogram"
           }
          ],
          "histogram2d": [
           {
            "colorbar": {
             "outlinewidth": 0,
             "ticks": ""
            },
            "colorscale": [
             [
              0,
              "#0d0887"
             ],
             [
              0.1111111111111111,
              "#46039f"
             ],
             [
              0.2222222222222222,
              "#7201a8"
             ],
             [
              0.3333333333333333,
              "#9c179e"
             ],
             [
              0.4444444444444444,
              "#bd3786"
             ],
             [
              0.5555555555555556,
              "#d8576b"
             ],
             [
              0.6666666666666666,
              "#ed7953"
             ],
             [
              0.7777777777777778,
              "#fb9f3a"
             ],
             [
              0.8888888888888888,
              "#fdca26"
             ],
             [
              1,
              "#f0f921"
             ]
            ],
            "type": "histogram2d"
           }
          ],
          "histogram2dcontour": [
           {
            "colorbar": {
             "outlinewidth": 0,
             "ticks": ""
            },
            "colorscale": [
             [
              0,
              "#0d0887"
             ],
             [
              0.1111111111111111,
              "#46039f"
             ],
             [
              0.2222222222222222,
              "#7201a8"
             ],
             [
              0.3333333333333333,
              "#9c179e"
             ],
             [
              0.4444444444444444,
              "#bd3786"
             ],
             [
              0.5555555555555556,
              "#d8576b"
             ],
             [
              0.6666666666666666,
              "#ed7953"
             ],
             [
              0.7777777777777778,
              "#fb9f3a"
             ],
             [
              0.8888888888888888,
              "#fdca26"
             ],
             [
              1,
              "#f0f921"
             ]
            ],
            "type": "histogram2dcontour"
           }
          ],
          "mesh3d": [
           {
            "colorbar": {
             "outlinewidth": 0,
             "ticks": ""
            },
            "type": "mesh3d"
           }
          ],
          "parcoords": [
           {
            "line": {
             "colorbar": {
              "outlinewidth": 0,
              "ticks": ""
             }
            },
            "type": "parcoords"
           }
          ],
          "pie": [
           {
            "automargin": true,
            "type": "pie"
           }
          ],
          "scatter": [
           {
            "fillpattern": {
             "fillmode": "overlay",
             "size": 10,
             "solidity": 0.2
            },
            "type": "scatter"
           }
          ],
          "scatter3d": [
           {
            "line": {
             "colorbar": {
              "outlinewidth": 0,
              "ticks": ""
             }
            },
            "marker": {
             "colorbar": {
              "outlinewidth": 0,
              "ticks": ""
             }
            },
            "type": "scatter3d"
           }
          ],
          "scattercarpet": [
           {
            "marker": {
             "colorbar": {
              "outlinewidth": 0,
              "ticks": ""
             }
            },
            "type": "scattercarpet"
           }
          ],
          "scattergeo": [
           {
            "marker": {
             "colorbar": {
              "outlinewidth": 0,
              "ticks": ""
             }
            },
            "type": "scattergeo"
           }
          ],
          "scattergl": [
           {
            "marker": {
             "colorbar": {
              "outlinewidth": 0,
              "ticks": ""
             }
            },
            "type": "scattergl"
           }
          ],
          "scattermapbox": [
           {
            "marker": {
             "colorbar": {
              "outlinewidth": 0,
              "ticks": ""
             }
            },
            "type": "scattermapbox"
           }
          ],
          "scatterpolar": [
           {
            "marker": {
             "colorbar": {
              "outlinewidth": 0,
              "ticks": ""
             }
            },
            "type": "scatterpolar"
           }
          ],
          "scatterpolargl": [
           {
            "marker": {
             "colorbar": {
              "outlinewidth": 0,
              "ticks": ""
             }
            },
            "type": "scatterpolargl"
           }
          ],
          "scatterternary": [
           {
            "marker": {
             "colorbar": {
              "outlinewidth": 0,
              "ticks": ""
             }
            },
            "type": "scatterternary"
           }
          ],
          "surface": [
           {
            "colorbar": {
             "outlinewidth": 0,
             "ticks": ""
            },
            "colorscale": [
             [
              0,
              "#0d0887"
             ],
             [
              0.1111111111111111,
              "#46039f"
             ],
             [
              0.2222222222222222,
              "#7201a8"
             ],
             [
              0.3333333333333333,
              "#9c179e"
             ],
             [
              0.4444444444444444,
              "#bd3786"
             ],
             [
              0.5555555555555556,
              "#d8576b"
             ],
             [
              0.6666666666666666,
              "#ed7953"
             ],
             [
              0.7777777777777778,
              "#fb9f3a"
             ],
             [
              0.8888888888888888,
              "#fdca26"
             ],
             [
              1,
              "#f0f921"
             ]
            ],
            "type": "surface"
           }
          ],
          "table": [
           {
            "cells": {
             "fill": {
              "color": "#EBF0F8"
             },
             "line": {
              "color": "white"
             }
            },
            "header": {
             "fill": {
              "color": "#C8D4E3"
             },
             "line": {
              "color": "white"
             }
            },
            "type": "table"
           }
          ]
         },
         "layout": {
          "annotationdefaults": {
           "arrowcolor": "#2a3f5f",
           "arrowhead": 0,
           "arrowwidth": 1
          },
          "autotypenumbers": "strict",
          "coloraxis": {
           "colorbar": {
            "outlinewidth": 0,
            "ticks": ""
           }
          },
          "colorscale": {
           "diverging": [
            [
             0,
             "#8e0152"
            ],
            [
             0.1,
             "#c51b7d"
            ],
            [
             0.2,
             "#de77ae"
            ],
            [
             0.3,
             "#f1b6da"
            ],
            [
             0.4,
             "#fde0ef"
            ],
            [
             0.5,
             "#f7f7f7"
            ],
            [
             0.6,
             "#e6f5d0"
            ],
            [
             0.7,
             "#b8e186"
            ],
            [
             0.8,
             "#7fbc41"
            ],
            [
             0.9,
             "#4d9221"
            ],
            [
             1,
             "#276419"
            ]
           ],
           "sequential": [
            [
             0,
             "#0d0887"
            ],
            [
             0.1111111111111111,
             "#46039f"
            ],
            [
             0.2222222222222222,
             "#7201a8"
            ],
            [
             0.3333333333333333,
             "#9c179e"
            ],
            [
             0.4444444444444444,
             "#bd3786"
            ],
            [
             0.5555555555555556,
             "#d8576b"
            ],
            [
             0.6666666666666666,
             "#ed7953"
            ],
            [
             0.7777777777777778,
             "#fb9f3a"
            ],
            [
             0.8888888888888888,
             "#fdca26"
            ],
            [
             1,
             "#f0f921"
            ]
           ],
           "sequentialminus": [
            [
             0,
             "#0d0887"
            ],
            [
             0.1111111111111111,
             "#46039f"
            ],
            [
             0.2222222222222222,
             "#7201a8"
            ],
            [
             0.3333333333333333,
             "#9c179e"
            ],
            [
             0.4444444444444444,
             "#bd3786"
            ],
            [
             0.5555555555555556,
             "#d8576b"
            ],
            [
             0.6666666666666666,
             "#ed7953"
            ],
            [
             0.7777777777777778,
             "#fb9f3a"
            ],
            [
             0.8888888888888888,
             "#fdca26"
            ],
            [
             1,
             "#f0f921"
            ]
           ]
          },
          "colorway": [
           "#636efa",
           "#EF553B",
           "#00cc96",
           "#ab63fa",
           "#FFA15A",
           "#19d3f3",
           "#FF6692",
           "#B6E880",
           "#FF97FF",
           "#FECB52"
          ],
          "font": {
           "color": "#2a3f5f"
          },
          "geo": {
           "bgcolor": "white",
           "lakecolor": "white",
           "landcolor": "#E5ECF6",
           "showlakes": true,
           "showland": true,
           "subunitcolor": "white"
          },
          "hoverlabel": {
           "align": "left"
          },
          "hovermode": "closest",
          "mapbox": {
           "style": "light"
          },
          "paper_bgcolor": "white",
          "plot_bgcolor": "#E5ECF6",
          "polar": {
           "angularaxis": {
            "gridcolor": "white",
            "linecolor": "white",
            "ticks": ""
           },
           "bgcolor": "#E5ECF6",
           "radialaxis": {
            "gridcolor": "white",
            "linecolor": "white",
            "ticks": ""
           }
          },
          "scene": {
           "xaxis": {
            "backgroundcolor": "#E5ECF6",
            "gridcolor": "white",
            "gridwidth": 2,
            "linecolor": "white",
            "showbackground": true,
            "ticks": "",
            "zerolinecolor": "white"
           },
           "yaxis": {
            "backgroundcolor": "#E5ECF6",
            "gridcolor": "white",
            "gridwidth": 2,
            "linecolor": "white",
            "showbackground": true,
            "ticks": "",
            "zerolinecolor": "white"
           },
           "zaxis": {
            "backgroundcolor": "#E5ECF6",
            "gridcolor": "white",
            "gridwidth": 2,
            "linecolor": "white",
            "showbackground": true,
            "ticks": "",
            "zerolinecolor": "white"
           }
          },
          "shapedefaults": {
           "line": {
            "color": "#2a3f5f"
           }
          },
          "ternary": {
           "aaxis": {
            "gridcolor": "white",
            "linecolor": "white",
            "ticks": ""
           },
           "baxis": {
            "gridcolor": "white",
            "linecolor": "white",
            "ticks": ""
           },
           "bgcolor": "#E5ECF6",
           "caxis": {
            "gridcolor": "white",
            "linecolor": "white",
            "ticks": ""
           }
          },
          "title": {
           "x": 0.05
          },
          "xaxis": {
           "automargin": true,
           "gridcolor": "white",
           "linecolor": "white",
           "ticks": "",
           "title": {
            "standoff": 15
           },
           "zerolinecolor": "white",
           "zerolinewidth": 2
          },
          "yaxis": {
           "automargin": true,
           "gridcolor": "white",
           "linecolor": "white",
           "ticks": "",
           "title": {
            "standoff": 15
           },
           "zerolinecolor": "white",
           "zerolinewidth": 2
          }
         }
        },
        "title": {
         "text": "Comparison of class frequencies",
         "x": 0.5,
         "y": 0.95
        },
        "width": 800
       }
      }
     },
     "metadata": {},
     "output_type": "display_data"
    }
   ],
   "source": [
    "visualize_and_save_class_frequencies(\n",
    "    data_e, data_h, data_b, data_c, save_path=save_path\n",
    ")"
   ]
  },
  {
   "cell_type": "markdown",
   "metadata": {},
   "source": [
    "## Number of Characters"
   ]
  },
  {
   "cell_type": "code",
   "execution_count": 8,
   "metadata": {},
   "outputs": [
    {
     "data": {
      "image/png": "[encoded data removed]",
      "text/plain": [
       "<Figure size 1000x840 with 4 Axes>"
      ]
     },
     "metadata": {},
     "output_type": "display_data"
    }
   ],
   "source": [
    "visualize_and_save_character_distribution(\n",
    "    data_e, data_h, data_b, data_c, save_path=save_path\n",
    ")"
   ]
  },
  {
   "cell_type": "markdown",
   "metadata": {},
   "source": [
    "## Number of Words"
   ]
  },
  {
   "cell_type": "code",
   "execution_count": 9,
   "metadata": {},
   "outputs": [
    {
     "data": {
      "image/png": "[encoded data removed]",
      "text/plain": [
       "<Figure size 1000x840 with 4 Axes>"
      ]
     },
     "metadata": {},
     "output_type": "display_data"
    }
   ],
   "source": [
    "visualize_and_save_word_distribution(\n",
    "    data_e, data_h, data_b, data_c, save_path=save_path\n",
    ")"
   ]
  },
  {
   "cell_type": "markdown",
   "metadata": {},
   "source": [
    "## Average Word-length"
   ]
  },
  {
   "cell_type": "code",
   "execution_count": 10,
   "metadata": {},
   "outputs": [
    {
     "data": {
      "image/png": "[encoded data removed]",
      "text/plain": [
       "<Figure size 1000x840 with 4 Axes>"
      ]
     },
     "metadata": {},
     "output_type": "display_data"
    }
   ],
   "source": [
    "visualize_and_save_avg_word_length_distribution(\n",
    "    data_e, data_h, data_b, data_c, save_path=save_path\n",
    ")"
   ]
  },
  {
   "cell_type": "markdown",
   "metadata": {},
   "source": [
    "# Train-Validation-Test Split"
   ]
  },
  {
   "cell_type": "code",
   "execution_count": 11,
   "metadata": {},
   "outputs": [],
   "source": [
    "data_train, data_val, data_test = split_data(\n",
    "    data, target_column=\"label\", test_size=0.2, val_size=0.5, random_state=40\n",
    ")"
   ]
  },
  {
   "cell_type": "code",
   "execution_count": 12,
   "metadata": {},
   "outputs": [
    {
     "data": {
      "application/vnd.plotly.v1+json": {
       "config": {
        "plotlyServerURL": "https://plot.ly"
       },
       "data": [
        {
         "hole": 0.5,
         "labels": [
          "Training set",
          "Validation Set",
          "Test set"
         ],
         "textinfo": "percent",
         "title": {
          "text": " "
         },
         "type": "pie",
         "values": [
          22241,
          2780,
          2781
         ]
        }
       ],
       "layout": {
        "height": 500,
        "showlegend": true,
        "template": {
         "data": {
          "bar": [
           {
            "error_x": {
             "color": "#2a3f5f"
            },
            "error_y": {
             "color": "#2a3f5f"
            },
            "marker": {
             "line": {
              "color": "#E5ECF6",
              "width": 0.5
             },
             "pattern": {
              "fillmode": "overlay",
              "size": 10,
              "solidity": 0.2
             }
            },
            "type": "bar"
           }
          ],
          "barpolar": [
           {
            "marker": {
             "line": {
              "color": "#E5ECF6",
              "width": 0.5
             },
             "pattern": {
              "fillmode": "overlay",
              "size": 10,
              "solidity": 0.2
             }
            },
            "type": "barpolar"
           }
          ],
          "carpet": [
           {
            "aaxis": {
             "endlinecolor": "#2a3f5f",
             "gridcolor": "white",
             "linecolor": "white",
             "minorgridcolor": "white",
             "startlinecolor": "#2a3f5f"
            },
            "baxis": {
             "endlinecolor": "#2a3f5f",
             "gridcolor": "white",
             "linecolor": "white",
             "minorgridcolor": "white",
             "startlinecolor": "#2a3f5f"
            },
            "type": "carpet"
           }
          ],
          "choropleth": [
           {
            "colorbar": {
             "outlinewidth": 0,
             "ticks": ""
            },
            "type": "choropleth"
           }
          ],
          "contour": [
           {
            "colorbar": {
             "outlinewidth": 0,
             "ticks": ""
            },
            "colorscale": [
             [
              0,
              "#0d0887"
             ],
             [
              0.1111111111111111,
              "#46039f"
             ],
             [
              0.2222222222222222,
              "#7201a8"
             ],
             [
              0.3333333333333333,
              "#9c179e"
             ],
             [
              0.4444444444444444,
              "#bd3786"
             ],
             [
              0.5555555555555556,
              "#d8576b"
             ],
             [
              0.6666666666666666,
              "#ed7953"
             ],
             [
              0.7777777777777778,
              "#fb9f3a"
             ],
             [
              0.8888888888888888,
              "#fdca26"
             ],
             [
              1,
              "#f0f921"
             ]
            ],
            "type": "contour"
           }
          ],
          "contourcarpet": [
           {
            "colorbar": {
             "outlinewidth": 0,
             "ticks": ""
            },
            "type": "contourcarpet"
           }
          ],
          "heatmap": [
           {
            "colorbar": {
             "outlinewidth": 0,
             "ticks": ""
            },
            "colorscale": [
             [
              0,
              "#0d0887"
             ],
             [
              0.1111111111111111,
              "#46039f"
             ],
             [
              0.2222222222222222,
              "#7201a8"
             ],
             [
              0.3333333333333333,
              "#9c179e"
             ],
             [
              0.4444444444444444,
              "#bd3786"
             ],
             [
              0.5555555555555556,
              "#d8576b"
             ],
             [
              0.6666666666666666,
              "#ed7953"
             ],
             [
              0.7777777777777778,
              "#fb9f3a"
             ],
             [
              0.8888888888888888,
              "#fdca26"
             ],
             [
              1,
              "#f0f921"
             ]
            ],
            "type": "heatmap"
           }
          ],
          "heatmapgl": [
           {
            "colorbar": {
             "outlinewidth": 0,
             "ticks": ""
            },
            "colorscale": [
             [
              0,
              "#0d0887"
             ],
             [
              0.1111111111111111,
              "#46039f"
             ],
             [
              0.2222222222222222,
              "#7201a8"
             ],
             [
              0.3333333333333333,
              "#9c179e"
             ],
             [
              0.4444444444444444,
              "#bd3786"
             ],
             [
              0.5555555555555556,
              "#d8576b"
             ],
             [
              0.6666666666666666,
              "#ed7953"
             ],
             [
              0.7777777777777778,
              "#fb9f3a"
             ],
             [
              0.8888888888888888,
              "#fdca26"
             ],
             [
              1,
              "#f0f921"
             ]
            ],
            "type": "heatmapgl"
           }
          ],
          "histogram": [
           {
            "marker": {
             "pattern": {
              "fillmode": "overlay",
              "size": 10,
              "solidity": 0.2
             }
            },
            "type": "histogram"
           }
          ],
          "histogram2d": [
           {
            "colorbar": {
             "outlinewidth": 0,
             "ticks": ""
            },
            "colorscale": [
             [
              0,
              "#0d0887"
             ],
             [
              0.1111111111111111,
              "#46039f"
             ],
             [
              0.2222222222222222,
              "#7201a8"
             ],
             [
              0.3333333333333333,
              "#9c179e"
             ],
             [
              0.4444444444444444,
              "#bd3786"
             ],
             [
              0.5555555555555556,
              "#d8576b"
             ],
             [
              0.6666666666666666,
              "#ed7953"
             ],
             [
              0.7777777777777778,
              "#fb9f3a"
             ],
             [
              0.8888888888888888,
              "#fdca26"
             ],
             [
              1,
              "#f0f921"
             ]
            ],
            "type": "histogram2d"
           }
          ],
          "histogram2dcontour": [
           {
            "colorbar": {
             "outlinewidth": 0,
             "ticks": ""
            },
            "colorscale": [
             [
              0,
              "#0d0887"
             ],
             [
              0.1111111111111111,
              "#46039f"
             ],
             [
              0.2222222222222222,
              "#7201a8"
             ],
             [
              0.3333333333333333,
              "#9c179e"
             ],
             [
              0.4444444444444444,
              "#bd3786"
             ],
             [
              0.5555555555555556,
              "#d8576b"
             ],
             [
              0.6666666666666666,
              "#ed7953"
             ],
             [
              0.7777777777777778,
              "#fb9f3a"
             ],
             [
              0.8888888888888888,
              "#fdca26"
             ],
             [
              1,
              "#f0f921"
             ]
            ],
            "type": "histogram2dcontour"
           }
          ],
          "mesh3d": [
           {
            "colorbar": {
             "outlinewidth": 0,
             "ticks": ""
            },
            "type": "mesh3d"
           }
          ],
          "parcoords": [
           {
            "line": {
             "colorbar": {
              "outlinewidth": 0,
              "ticks": ""
             }
            },
            "type": "parcoords"
           }
          ],
          "pie": [
           {
            "automargin": true,
            "type": "pie"
           }
          ],
          "scatter": [
           {
            "fillpattern": {
             "fillmode": "overlay",
             "size": 10,
             "solidity": 0.2
            },
            "type": "scatter"
           }
          ],
          "scatter3d": [
           {
            "line": {
             "colorbar": {
              "outlinewidth": 0,
              "ticks": ""
             }
            },
            "marker": {
             "colorbar": {
              "outlinewidth": 0,
              "ticks": ""
             }
            },
            "type": "scatter3d"
           }
          ],
          "scattercarpet": [
           {
            "marker": {
             "colorbar": {
              "outlinewidth": 0,
              "ticks": ""
             }
            },
            "type": "scattercarpet"
           }
          ],
          "scattergeo": [
           {
            "marker": {
             "colorbar": {
              "outlinewidth": 0,
              "ticks": ""
             }
            },
            "type": "scattergeo"
           }
          ],
          "scattergl": [
           {
            "marker": {
             "colorbar": {
              "outlinewidth": 0,
              "ticks": ""
             }
            },
            "type": "scattergl"
           }
          ],
          "scattermapbox": [
           {
            "marker": {
             "colorbar": {
              "outlinewidth": 0,
              "ticks": ""
             }
            },
            "type": "scattermapbox"
           }
          ],
          "scatterpolar": [
           {
            "marker": {
             "colorbar": {
              "outlinewidth": 0,
              "ticks": ""
             }
            },
            "type": "scatterpolar"
           }
          ],
          "scatterpolargl": [
           {
            "marker": {
             "colorbar": {
              "outlinewidth": 0,
              "ticks": ""
             }
            },
            "type": "scatterpolargl"
           }
          ],
          "scatterternary": [
           {
            "marker": {
             "colorbar": {
              "outlinewidth": 0,
              "ticks": ""
             }
            },
            "type": "scatterternary"
           }
          ],
          "surface": [
           {
            "colorbar": {
             "outlinewidth": 0,
             "ticks": ""
            },
            "colorscale": [
             [
              0,
              "#0d0887"
             ],
             [
              0.1111111111111111,
              "#46039f"
             ],
             [
              0.2222222222222222,
              "#7201a8"
             ],
             [
              0.3333333333333333,
              "#9c179e"
             ],
             [
              0.4444444444444444,
              "#bd3786"
             ],
             [
              0.5555555555555556,
              "#d8576b"
             ],
             [
              0.6666666666666666,
              "#ed7953"
             ],
             [
              0.7777777777777778,
              "#fb9f3a"
             ],
             [
              0.8888888888888888,
              "#fdca26"
             ],
             [
              1,
              "#f0f921"
             ]
            ],
            "type": "surface"
           }
          ],
          "table": [
           {
            "cells": {
             "fill": {
              "color": "#EBF0F8"
             },
             "line": {
              "color": "white"
             }
            },
            "header": {
             "fill": {
              "color": "#C8D4E3"
             },
             "line": {
              "color": "white"
             }
            },
            "type": "table"
           }
          ]
         },
         "layout": {
          "annotationdefaults": {
           "arrowcolor": "#2a3f5f",
           "arrowhead": 0,
           "arrowwidth": 1
          },
          "autotypenumbers": "strict",
          "coloraxis": {
           "colorbar": {
            "outlinewidth": 0,
            "ticks": ""
           }
          },
          "colorscale": {
           "diverging": [
            [
             0,
             "#8e0152"
            ],
            [
             0.1,
             "#c51b7d"
            ],
            [
             0.2,
             "#de77ae"
            ],
            [
             0.3,
             "#f1b6da"
            ],
            [
             0.4,
             "#fde0ef"
            ],
            [
             0.5,
             "#f7f7f7"
            ],
            [
             0.6,
             "#e6f5d0"
            ],
            [
             0.7,
             "#b8e186"
            ],
            [
             0.8,
             "#7fbc41"
            ],
            [
             0.9,
             "#4d9221"
            ],
            [
             1,
             "#276419"
            ]
           ],
           "sequential": [
            [
             0,
             "#0d0887"
            ],
            [
             0.1111111111111111,
             "#46039f"
            ],
            [
             0.2222222222222222,
             "#7201a8"
            ],
            [
             0.3333333333333333,
             "#9c179e"
            ],
            [
             0.4444444444444444,
             "#bd3786"
            ],
            [
             0.5555555555555556,
             "#d8576b"
            ],
            [
             0.6666666666666666,
             "#ed7953"
            ],
            [
             0.7777777777777778,
             "#fb9f3a"
            ],
            [
             0.8888888888888888,
             "#fdca26"
            ],
            [
             1,
             "#f0f921"
            ]
           ],
           "sequentialminus": [
            [
             0,
             "#0d0887"
            ],
            [
             0.1111111111111111,
             "#46039f"
            ],
            [
             0.2222222222222222,
             "#7201a8"
            ],
            [
             0.3333333333333333,
             "#9c179e"
            ],
            [
             0.4444444444444444,
             "#bd3786"
            ],
            [
             0.5555555555555556,
             "#d8576b"
            ],
            [
             0.6666666666666666,
             "#ed7953"
            ],
            [
             0.7777777777777778,
             "#fb9f3a"
            ],
            [
             0.8888888888888888,
             "#fdca26"
            ],
            [
             1,
             "#f0f921"
            ]
           ]
          },
          "colorway": [
           "#636efa",
           "#EF553B",
           "#00cc96",
           "#ab63fa",
           "#FFA15A",
           "#19d3f3",
           "#FF6692",
           "#B6E880",
           "#FF97FF",
           "#FECB52"
          ],
          "font": {
           "color": "#2a3f5f"
          },
          "geo": {
           "bgcolor": "white",
           "lakecolor": "white",
           "landcolor": "#E5ECF6",
           "showlakes": true,
           "showland": true,
           "subunitcolor": "white"
          },
          "hoverlabel": {
           "align": "left"
          },
          "hovermode": "closest",
          "mapbox": {
           "style": "light"
          },
          "paper_bgcolor": "white",
          "plot_bgcolor": "#E5ECF6",
          "polar": {
           "angularaxis": {
            "gridcolor": "white",
            "linecolor": "white",
            "ticks": ""
           },
           "bgcolor": "#E5ECF6",
           "radialaxis": {
            "gridcolor": "white",
            "linecolor": "white",
            "ticks": ""
           }
          },
          "scene": {
           "xaxis": {
            "backgroundcolor": "#E5ECF6",
            "gridcolor": "white",
            "gridwidth": 2,
            "linecolor": "white",
            "showbackground": true,
            "ticks": "",
            "zerolinecolor": "white"
           },
           "yaxis": {
            "backgroundcolor": "#E5ECF6",
            "gridcolor": "white",
            "gridwidth": 2,
            "linecolor": "white",
            "showbackground": true,
            "ticks": "",
            "zerolinecolor": "white"
           },
           "zaxis": {
            "backgroundcolor": "#E5ECF6",
            "gridcolor": "white",
            "gridwidth": 2,
            "linecolor": "white",
            "showbackground": true,
            "ticks": "",
            "zerolinecolor": "white"
           }
          },
          "shapedefaults": {
           "line": {
            "color": "#2a3f5f"
           }
          },
          "ternary": {
           "aaxis": {
            "gridcolor": "white",
            "linecolor": "white",
            "ticks": ""
           },
           "baxis": {
            "gridcolor": "white",
            "linecolor": "white",
            "ticks": ""
           },
           "bgcolor": "#E5ECF6",
           "caxis": {
            "gridcolor": "white",
            "linecolor": "white",
            "ticks": ""
           }
          },
          "title": {
           "x": 0.05
          },
          "xaxis": {
           "automargin": true,
           "gridcolor": "white",
           "linecolor": "white",
           "ticks": "",
           "title": {
            "standoff": 15
           },
           "zerolinecolor": "white",
           "zerolinewidth": 2
          },
          "yaxis": {
           "automargin": true,
           "gridcolor": "white",
           "linecolor": "white",
           "ticks": "",
           "title": {
            "standoff": 15
           },
           "zerolinecolor": "white",
           "zerolinewidth": 2
          }
         }
        },
        "title": {
         "text": "Comparison of sizes of training set, validation set and test set",
         "x": 0.5,
         "y": 0.95
        },
        "width": 800
       }
      }
     },
     "metadata": {},
     "output_type": "display_data"
    }
   ],
   "source": [
    "plot_data_split_sizes(data_train, data_val, data_test, save_path=save_path)"
   ]
  },
  {
   "cell_type": "markdown",
   "metadata": {},
   "source": [
    "# Text Normalization\n",
    "\n",
    "- [**Convertion to Lowercase**](#Convertion-to-Lowercase)\n",
    "- [**Removal of Whitespaces**](#Removal-of-Whitespaces)\n",
    "- [**Removal of Punctuations**](#Removal-of-Punctuations)\n",
    "- [**Removal of Unicode Characters**](#Removal-of-Unicode-Characters)\n",
    "- [**Substitution of Acronyms**](#Substitution-of-Acronyms)\n",
    "- [**Substitution of Contractions**](#Substitution-of-Contractions)\n",
    "- [**Removal of Stop Words**](#Removal-of-Stop-Words)\n",
    "- [**Spelling Correction**](#Spelling-Correction)\n",
    "- [**Lemmatization**](#Lemmatization)\n",
    "- [**Discardment of Non-alphabetic Words**](#Discardment-of-Non-alphabetic-Words)\n",
    "- [**Retainment of Relevant Parts of Speech**](#Retainment-of-Relevant-Parts-of-Speech)\n",
    "- [**Integration of the Processes**](#Integration-of-the-Processes)\n",
    "- [**Implementation on Product Description**](#Implementation-on-Product-Description)"
   ]
  },
  {
   "cell_type": "markdown",
   "metadata": {},
   "source": [
    "## Convertion to Lowercase"
   ]
  },
  {
   "cell_type": "code",
   "execution_count": 13,
   "metadata": {},
   "outputs": [
    {
     "name": "stderr",
     "output_type": "stream",
     "text": [
      "\u001b[32m2024-08-07 23:47:04.320\u001b[0m | \u001b[1mINFO    \u001b[0m | \u001b[36m__main__\u001b[0m:\u001b[36m<module>\u001b[0m:\u001b[36m3\u001b[0m - Input: This is a FUNCTION that CoNvErTs a Text to lowercase\n",
      "\u001b[32m2024-08-07 23:47:04.322\u001b[0m | \u001b[1mINFO    \u001b[0m | \u001b[36m__main__\u001b[0m:\u001b[36m<module>\u001b[0m:\u001b[36m7\u001b[0m - Output: this is a function that converts a text to lowercase\n"
     ]
    }
   ],
   "source": [
    "# Log input text\n",
    "text = \"This is a FUNCTION that CoNvErTs a Text to lowercase\"\n",
    "logger.info(f\"Input: {text}\")\n",
    "\n",
    "# Convert text to lowercase and log output\n",
    "output = convert_to_lowercase(text)\n",
    "logger.info(f\"Output: {output}\")"
   ]
  },
  {
   "cell_type": "markdown",
   "metadata": {},
   "source": [
    "## Removal of Whitespaces"
   ]
  },
  {
   "cell_type": "code",
   "execution_count": 14,
   "metadata": {},
   "outputs": [
    {
     "name": "stderr",
     "output_type": "stream",
     "text": [
      "\u001b[32m2024-08-07 23:47:04.338\u001b[0m | \u001b[1mINFO    \u001b[0m | \u001b[36m__main__\u001b[0m:\u001b[36m<module>\u001b[0m:\u001b[36m5\u001b[0m - Input:  \t This is a string \t \n",
      "\u001b[32m2024-08-07 23:47:04.340\u001b[0m | \u001b[1mINFO    \u001b[0m | \u001b[36m__main__\u001b[0m:\u001b[36m<module>\u001b[0m:\u001b[36m9\u001b[0m - Output: This is a string\n"
     ]
    }
   ],
   "source": [
    "# Removing whitespaces\n",
    "text = \" \\t This is a string \\t \"\n",
    "\n",
    "# Log input text\n",
    "logger.info(f\"Input: {text}\")\n",
    "\n",
    "# Remove whitespace and log output\n",
    "output = remove_whitespace(text)\n",
    "logger.info(f\"Output: {output}\")"
   ]
  },
  {
   "cell_type": "markdown",
   "metadata": {},
   "source": [
    "## Removal of Punctuations"
   ]
  },
  {
   "cell_type": "code",
   "execution_count": 15,
   "metadata": {},
   "outputs": [
    {
     "name": "stderr",
     "output_type": "stream",
     "text": [
      "\u001b[32m2024-08-07 23:47:04.356\u001b[0m | \u001b[1mINFO    \u001b[0m | \u001b[36m__main__\u001b[0m:\u001b[36m<module>\u001b[0m:\u001b[36m5\u001b[0m - Input: Here's [an] example? {of} &a string. with.? punctuations!!!!\n",
      "\u001b[32m2024-08-07 23:47:04.357\u001b[0m | \u001b[1mINFO    \u001b[0m | \u001b[36m__main__\u001b[0m:\u001b[36m<module>\u001b[0m:\u001b[36m9\u001b[0m - Output: Here's an example of a string with punctuations\n"
     ]
    }
   ],
   "source": [
    "# Removing punctuations\n",
    "text = \"Here's [an] example? {of} &a string. with.? punctuations!!!!\"\n",
    "\n",
    "# Log input text\n",
    "logger.info(f\"Input: {text}\")\n",
    "\n",
    "# Remove punctuation and log output\n",
    "output = remove_punctuation(text)\n",
    "logger.info(f\"Output: {output}\")"
   ]
  },
  {
   "cell_type": "markdown",
   "metadata": {},
   "source": [
    "## Removal of Unicode Characters"
   ]
  },
  {
   "cell_type": "code",
   "execution_count": 16,
   "metadata": {},
   "outputs": [
    {
     "name": "stderr",
     "output_type": "stream",
     "text": [
      "\u001b[32m2024-08-07 23:47:04.378\u001b[0m | \u001b[1mINFO    \u001b[0m | \u001b[36m__main__\u001b[0m:\u001b[36m<module>\u001b[0m:\u001b[36m4\u001b[0m - Input: <a href = \"https://www.kaggle.com/datasets/saurabhshahane/ecommerce-text-classification\"> Ecommerce Text Classification </a>\n",
      "\u001b[32m2024-08-07 23:47:04.380\u001b[0m | \u001b[1mINFO    \u001b[0m | \u001b[36m__main__\u001b[0m:\u001b[36m<module>\u001b[0m:\u001b[36m8\u001b[0m - Output: a href  httpswwwkagglecomdatasetssaurabhshahaneecommercetextclassification Ecommerce Text Classification a\n"
     ]
    }
   ],
   "source": [
    "text = '<a href = \"https://www.kaggle.com/datasets/saurabhshahane/ecommerce-text-classification\"> Ecommerce Text Classification </a>'\n",
    "\n",
    "# Log input text\n",
    "logger.info(f\"Input: {text}\")\n",
    "\n",
    "# Remove punctuation and log output\n",
    "output = remove_punctuation(text)\n",
    "logger.info(f\"Output: {output}\")"
   ]
  },
  {
   "cell_type": "code",
   "execution_count": 17,
   "metadata": {},
   "outputs": [
    {
     "name": "stderr",
     "output_type": "stream",
     "text": [
      "\u001b[32m2024-08-07 23:47:04.396\u001b[0m | \u001b[1mINFO    \u001b[0m | \u001b[36m__main__\u001b[0m:\u001b[36m<module>\u001b[0m:\u001b[36m5\u001b[0m - Input: This is a sample text with emojis 😊🚀 and symbols like ❤️.\n",
      "\u001b[32m2024-08-07 23:47:04.403\u001b[0m | \u001b[1mINFO    \u001b[0m | \u001b[36m__main__\u001b[0m:\u001b[36m<module>\u001b[0m:\u001b[36m9\u001b[0m - Output: This is a sample text with emojis  and symbols like .\n"
     ]
    }
   ],
   "source": [
    "# Removing emojis\n",
    "text = \"This is a sample text with emojis 😊🚀 and symbols like ❤️.\"\n",
    "\n",
    "# Log input text\n",
    "logger.info(f\"Input: {text}\")\n",
    "\n",
    "# Remove emojis and log output\n",
    "output = remove_emoji(text)\n",
    "logger.info(f\"Output: {output}\")"
   ]
  },
  {
   "cell_type": "code",
   "execution_count": 18,
   "metadata": {},
   "outputs": [
    {
     "name": "stderr",
     "output_type": "stream",
     "text": [
      "\u001b[32m2024-08-07 23:47:04.421\u001b[0m | \u001b[1mINFO    \u001b[0m | \u001b[36m__main__\u001b[0m:\u001b[36m<module>\u001b[0m:\u001b[36m5\u001b[0m - Input: It's a function that removes links starting with http: or https such as https://en.wikipedia.org/wiki/Unicode_symbols\n",
      "\u001b[32m2024-08-07 23:47:04.423\u001b[0m | \u001b[1mINFO    \u001b[0m | \u001b[36m__main__\u001b[0m:\u001b[36m<module>\u001b[0m:\u001b[36m9\u001b[0m - Output: It's a function that removes links starting with http: or https such as \n"
     ]
    }
   ],
   "source": [
    "# Removing other unicode characters\n",
    "text = \"It's a function that removes links starting with http: or https such as https://en.wikipedia.org/wiki/Unicode_symbols\"\n",
    "\n",
    "# Log input text\n",
    "logger.info(f\"Input: {text}\")\n",
    "\n",
    "# Remove HTTP URLs and log output\n",
    "output = remove_http(text)\n",
    "logger.info(f\"Output: {output}\")"
   ]
  },
  {
   "cell_type": "markdown",
   "metadata": {},
   "source": [
    "## Substitution of Acronyms"
   ]
  },
  {
   "cell_type": "code",
   "execution_count": 19,
   "metadata": {},
   "outputs": [
    {
     "name": "stderr",
     "output_type": "stream",
     "text": [
      "\u001b[32m2024-08-07 23:47:04.436\u001b[0m | \u001b[1mINFO    \u001b[0m | \u001b[36m__main__\u001b[0m:\u001b[36m<module>\u001b[0m:\u001b[36m5\u001b[0m - Input: btw you've to fill in the details including dob\n",
      "\u001b[32m2024-08-07 23:47:04.437\u001b[0m | \u001b[1mINFO    \u001b[0m | \u001b[36m__main__\u001b[0m:\u001b[36m<module>\u001b[0m:\u001b[36m9\u001b[0m - Output: by the way you've to fill in the details including date of birth\n"
     ]
    }
   ],
   "source": [
    "# Convert acronyms in a text\n",
    "text = \"btw you've to fill in the details including dob\"\n",
    "\n",
    "# Log input text\n",
    "logger.info(f\"Input: {text}\")\n",
    "\n",
    "# Convert acronyms and log output\n",
    "output = convert_acronyms(text)\n",
    "logger.info(f\"Output: {output}\")"
   ]
  },
  {
   "cell_type": "markdown",
   "metadata": {},
   "source": [
    "## Substitution of Contractions"
   ]
  },
  {
   "cell_type": "code",
   "execution_count": 20,
   "metadata": {},
   "outputs": [
    {
     "name": "stderr",
     "output_type": "stream",
     "text": [
      "\u001b[32m2024-08-07 23:47:04.459\u001b[0m | \u001b[1mINFO    \u001b[0m | \u001b[36m__main__\u001b[0m:\u001b[36m<module>\u001b[0m:\u001b[36m5\u001b[0m - Input: he's doin' fine\n",
      "\u001b[32m2024-08-07 23:47:04.461\u001b[0m | \u001b[1mINFO    \u001b[0m | \u001b[36m__main__\u001b[0m:\u001b[36m<module>\u001b[0m:\u001b[36m9\u001b[0m - Output: he is doing fine\n"
     ]
    }
   ],
   "source": [
    "# Convert contractions in a text\n",
    "text = \"he's doin' fine\"\n",
    "\n",
    "# Log input text\n",
    "logger.info(f\"Input: {text}\")\n",
    "\n",
    "# Convert contractions and log output\n",
    "output = convert_contractions(text)\n",
    "logger.info(f\"Output: {output}\")"
   ]
  },
  {
   "cell_type": "markdown",
   "metadata": {},
   "source": [
    "## Removal of Stop Words"
   ]
  },
  {
   "cell_type": "code",
   "execution_count": 21,
   "metadata": {},
   "outputs": [
    {
     "name": "stderr",
     "output_type": "stream",
     "text": [
      "\u001b[32m2024-08-07 23:47:04.476\u001b[0m | \u001b[1mINFO    \u001b[0m | \u001b[36m__main__\u001b[0m:\u001b[36m<module>\u001b[0m:\u001b[36m5\u001b[0m - Input: This is a function that removes stopwords in a given text\n",
      "\u001b[32m2024-08-07 23:47:04.478\u001b[0m | \u001b[1mINFO    \u001b[0m | \u001b[36m__main__\u001b[0m:\u001b[36m<module>\u001b[0m:\u001b[36m9\u001b[0m - Output: This function removes stopwords given text\n"
     ]
    }
   ],
   "source": [
    "# Remove stopwords\n",
    "text = \"This is a function that removes stopwords in a given text\"\n",
    "\n",
    "# Log input text\n",
    "logger.info(f\"Input: {text}\")\n",
    "\n",
    "# Remove stopwords and log output\n",
    "output = remove_stopwords(text)\n",
    "logger.info(f\"Output: {output}\")"
   ]
  },
  {
   "cell_type": "markdown",
   "metadata": {},
   "source": [
    "## Spelling Correction"
   ]
  },
  {
   "cell_type": "code",
   "execution_count": 22,
   "metadata": {},
   "outputs": [
    {
     "name": "stderr",
     "output_type": "stream",
     "text": [
      "\u001b[32m2024-08-07 23:47:04.501\u001b[0m | \u001b[1mINFO    \u001b[0m | \u001b[36m__main__\u001b[0m:\u001b[36m<module>\u001b[0m:\u001b[36m5\u001b[0m - Input: I'm goinng therre\n",
      "\u001b[32m2024-08-07 23:47:04.504\u001b[0m | \u001b[1mINFO    \u001b[0m | \u001b[36m__main__\u001b[0m:\u001b[36m<module>\u001b[0m:\u001b[36m9\u001b[0m - Output: I'm going there\n"
     ]
    }
   ],
   "source": [
    "# pyspellchecker\n",
    "text = \"I'm goinng therre\"\n",
    "\n",
    "# Log input text\n",
    "logger.info(f\"Input: {text}\")\n",
    "\n",
    "# Correct text and log output\n",
    "output = pyspellchecker(text)\n",
    "logger.info(f\"Output: {output}\")"
   ]
  },
  {
   "cell_type": "markdown",
   "metadata": {},
   "source": [
    "## Lemmatization"
   ]
  },
  {
   "cell_type": "markdown",
   "metadata": {},
   "source": [
    "[**Lemmatization**](https://en.wikipedia.org/wiki/Lemmatisation) offers a more sophisticated approach by utilizing a corpus to match root forms of the words. Unlike stemming, it uses the context in which a word is being used."
   ]
  },
  {
   "cell_type": "code",
   "execution_count": 23,
   "metadata": {},
   "outputs": [
    {
     "name": "stderr",
     "output_type": "stream",
     "text": [
      "\u001b[32m2024-08-07 23:47:04.518\u001b[0m | \u001b[1mINFO    \u001b[0m | \u001b[36m__main__\u001b[0m:\u001b[36m<module>\u001b[0m:\u001b[36m5\u001b[0m - Input: Introducing lemmatization as an improvement over stemming\n",
      "\u001b[32m2024-08-07 23:47:04.526\u001b[0m | \u001b[1mINFO    \u001b[0m | \u001b[36m__main__\u001b[0m:\u001b[36m<module>\u001b[0m:\u001b[36m9\u001b[0m - Output: introduce lemmatization as an improvement over stem\n"
     ]
    }
   ],
   "source": [
    "# Lemmatization\n",
    "text = \"Introducing lemmatization as an improvement over stemming\"\n",
    "\n",
    "# Log input text\n",
    "logger.info(f\"Input: {text}\")\n",
    "\n",
    "# Apply lemmatization and log output\n",
    "output = text_lemmatizer(text)\n",
    "logger.info(f\"Output: {output}\")"
   ]
  },
  {
   "cell_type": "markdown",
   "metadata": {},
   "source": [
    "## Discardment of Non-alphabetic Words"
   ]
  },
  {
   "cell_type": "markdown",
   "metadata": {},
   "source": [
    "The non-alphabetic words are not numerous and create unnecessary diversions in the context of classifying tweets into non-disaster and disaster categories. Hence we discard these words."
   ]
  },
  {
   "cell_type": "code",
   "execution_count": 24,
   "metadata": {},
   "outputs": [
    {
     "name": "stderr",
     "output_type": "stream",
     "text": [
      "\u001b[32m2024-08-07 23:47:04.540\u001b[0m | \u001b[1mINFO    \u001b[0m | \u001b[36m__main__\u001b[0m:\u001b[36m<module>\u001b[0m:\u001b[36m5\u001b[0m - Input: It is an ocean of thousands and 1000s of crowd\n",
      "\u001b[32m2024-08-07 23:47:04.542\u001b[0m | \u001b[1mINFO    \u001b[0m | \u001b[36m__main__\u001b[0m:\u001b[36m<module>\u001b[0m:\u001b[36m9\u001b[0m - Output: It is an ocean of thousands and of crowd\n"
     ]
    }
   ],
   "source": [
    "# Discardment of non-alphabetic words\n",
    "text = \"It is an ocean of thousands and 1000s of crowd\"\n",
    "\n",
    "# Log input text\n",
    "logger.info(f\"Input: {text}\")\n",
    "\n",
    "# Discard non-alphabetic and log output\n",
    "output = discard_non_alpha(text)\n",
    "logger.info(f\"Output: {output}\")"
   ]
  },
  {
   "cell_type": "markdown",
   "metadata": {},
   "source": [
    "## Retainment of Relevant Parts of Speech"
   ]
  },
  {
   "cell_type": "code",
   "execution_count": 25,
   "metadata": {},
   "outputs": [],
   "source": [
    "# https://stackoverflow.com/questions/15388831/what-are-all-possible-pos-tags-of-nltk"
   ]
  },
  {
   "cell_type": "code",
   "execution_count": 26,
   "metadata": {},
   "outputs": [
    {
     "name": "stderr",
     "output_type": "stream",
     "text": [
      "\u001b[32m2024-08-07 23:47:04.801\u001b[0m | \u001b[1mINFO    \u001b[0m | \u001b[36m__main__\u001b[0m:\u001b[36m<module>\u001b[0m:\u001b[36m10\u001b[0m - Input: He arrived at seven o'clock on Wednesday evening\n",
      "\u001b[32m2024-08-07 23:47:04.802\u001b[0m | \u001b[1mINFO    \u001b[0m | \u001b[36m__main__\u001b[0m:\u001b[36m<module>\u001b[0m:\u001b[36m13\u001b[0m - Tokens: ['He', 'arrived', 'at', 'seven', \"o'clock\", 'on', 'Wednesday', 'evening']\n",
      "\u001b[32m2024-08-07 23:47:04.803\u001b[0m | \u001b[1mINFO    \u001b[0m | \u001b[36m__main__\u001b[0m:\u001b[36m<module>\u001b[0m:\u001b[36m16\u001b[0m - Tagged Tokens: [('He', 'PRP'), ('arrived', 'VBD'), ('at', 'IN'), ('seven', 'CD'), (\"o'clock\", 'NN'), ('on', 'IN'), ('Wednesday', 'NNP'), ('evening', 'NN')]\n",
      "\u001b[32m2024-08-07 23:47:04.805\u001b[0m | \u001b[1mINFO    \u001b[0m | \u001b[36m__main__\u001b[0m:\u001b[36m<module>\u001b[0m:\u001b[36m20\u001b[0m - Output: He arrived o'clock Wednesday evening\n"
     ]
    }
   ],
   "source": [
    "text = \"He arrived at seven o'clock on Wednesday evening\"\n",
    "\n",
    "# Tokenize the text\n",
    "tokens = nltk.word_tokenize(text)\n",
    "\n",
    "# Tag tokens with POS tags\n",
    "tokens_tagged = nltk.pos_tag(tokens)\n",
    "\n",
    "# Log input text\n",
    "logger.info(f\"Input: {text}\")\n",
    "\n",
    "# Log tokens\n",
    "logger.info(f\"Tokens: {tokens}\")\n",
    "\n",
    "# Log tagged tokens\n",
    "logger.info(f\"Tagged Tokens: {tokens_tagged}\")\n",
    "\n",
    "# Process text with keep_pos and log output\n",
    "output = keep_pos(text)\n",
    "logger.info(f\"Output: {output}\")"
   ]
  },
  {
   "cell_type": "markdown",
   "metadata": {},
   "source": [
    "## Integration of the Processes"
   ]
  },
  {
   "cell_type": "code",
   "execution_count": 27,
   "metadata": {},
   "outputs": [
    {
     "name": "stderr",
     "output_type": "stream",
     "text": [
      "\u001b[32m2024-08-07 23:47:04.813\u001b[0m | \u001b[1mINFO    \u001b[0m | \u001b[36m__main__\u001b[0m:\u001b[36m<module>\u001b[0m:\u001b[36m4\u001b[0m - Input: We'll combine all functions into 1 SINGLE FUNCTION 🙂 & apply on @product #descriptions https://en.wikipedia.org/wiki/Text_normalization\n",
      "\u001b[32m2024-08-07 23:47:04.823\u001b[0m | \u001b[1mINFO    \u001b[0m | \u001b[36m__main__\u001b[0m:\u001b[36m<module>\u001b[0m:\u001b[36m8\u001b[0m - Output: combine function function apply product description\n"
     ]
    }
   ],
   "source": [
    "text = \"We'll combine all functions into 1 SINGLE FUNCTION 🙂 & apply on @product #descriptions https://en.wikipedia.org/wiki/Text_normalization\"\n",
    "\n",
    "# Log input text\n",
    "logger.info(f\"Input: {text}\")\n",
    "\n",
    "# Normalize text and log output\n",
    "output = text_normalizer(text)\n",
    "logger.info(f\"Output: {output}\")"
   ]
  },
  {
   "cell_type": "markdown",
   "metadata": {},
   "source": [
    "## Implementation on Product Description"
   ]
  },
  {
   "cell_type": "code",
   "execution_count": 28,
   "metadata": {},
   "outputs": [
    {
     "name": "stdout",
     "output_type": "stream",
     "text": [
      "CPU times: user 4min 32s, sys: 887 ms, total: 4min 33s\n",
      "Wall time: 4min 33s\n"
     ]
    }
   ],
   "source": [
    "%%time\n",
    "data_train_norm, data_val_norm, data_test_norm = normalize_split_data(\n",
    "    data_train, data_val, data_test, text_normalizer\n",
    ")"
   ]
  },
  {
   "cell_type": "code",
   "execution_count": 29,
   "metadata": {},
   "outputs": [
    {
     "data": {
      "text/html": [
       "<div>\n",
       "<style scoped>\n",
       "    .dataframe tbody tr th:only-of-type {\n",
       "        vertical-align: middle;\n",
       "    }\n",
       "\n",
       "    .dataframe tbody tr th {\n",
       "        vertical-align: top;\n",
       "    }\n",
       "\n",
       "    .dataframe thead th {\n",
       "        text-align: right;\n",
       "    }\n",
       "</style>\n",
       "<table border=\"1\" class=\"dataframe\">\n",
       "  <thead>\n",
       "    <tr style=\"text-align: right;\">\n",
       "      <th></th>\n",
       "      <th>normalized description</th>\n",
       "      <th>label</th>\n",
       "    </tr>\n",
       "  </thead>\n",
       "  <tbody>\n",
       "    <tr>\n",
       "      <th>15525</th>\n",
       "      <td>approach acupuncture author author graduate al...</td>\n",
       "      <td>2</td>\n",
       "    </tr>\n",
       "    <tr>\n",
       "      <th>1536</th>\n",
       "      <td>nice leatherette office arm chair chair seat h...</td>\n",
       "      <td>1</td>\n",
       "    </tr>\n",
       "    <tr>\n",
       "      <th>21984</th>\n",
       "      <td>ekan fedora hat girl boy fedora hat hat man fe...</td>\n",
       "      <td>3</td>\n",
       "    </tr>\n",
       "    <tr>\n",
       "      <th>25056</th>\n",
       "      <td>concert showlightning controller lighting cont...</td>\n",
       "      <td>0</td>\n",
       "    </tr>\n",
       "    <tr>\n",
       "      <th>25213</th>\n",
       "      <td>marantz fully beltdrive premounted cartridge b...</td>\n",
       "      <td>0</td>\n",
       "    </tr>\n",
       "    <tr>\n",
       "      <th>...</th>\n",
       "      <td>...</td>\n",
       "      <td>...</td>\n",
       "    </tr>\n",
       "    <tr>\n",
       "      <th>23992</th>\n",
       "      <td>apple tablet inch gb wifi gold matter task pro...</td>\n",
       "      <td>0</td>\n",
       "    </tr>\n",
       "    <tr>\n",
       "      <th>27640</th>\n",
       "      <td>skin sticker super hero collection fit dell hp...</td>\n",
       "      <td>0</td>\n",
       "    </tr>\n",
       "    <tr>\n",
       "      <th>14501</th>\n",
       "      <td>challenger sale take control customer conversa...</td>\n",
       "      <td>2</td>\n",
       "    </tr>\n",
       "    <tr>\n",
       "      <th>14555</th>\n",
       "      <td>mathematics work book opinion class</td>\n",
       "      <td>2</td>\n",
       "    </tr>\n",
       "    <tr>\n",
       "      <th>11590</th>\n",
       "      <td>operating system edition wiley student edition...</td>\n",
       "      <td>2</td>\n",
       "    </tr>\n",
       "  </tbody>\n",
       "</table>\n",
       "<p>22241 rows × 2 columns</p>\n",
       "</div>"
      ],
      "text/plain": [
       "                                  normalized description  label\n",
       "15525  approach acupuncture author author graduate al...      2\n",
       "1536   nice leatherette office arm chair chair seat h...      1\n",
       "21984  ekan fedora hat girl boy fedora hat hat man fe...      3\n",
       "25056  concert showlightning controller lighting cont...      0\n",
       "25213  marantz fully beltdrive premounted cartridge b...      0\n",
       "...                                                  ...    ...\n",
       "23992  apple tablet inch gb wifi gold matter task pro...      0\n",
       "27640  skin sticker super hero collection fit dell hp...      0\n",
       "14501  challenger sale take control customer conversa...      2\n",
       "14555                mathematics work book opinion class      2\n",
       "11590  operating system edition wiley student edition...      2\n",
       "\n",
       "[22241 rows x 2 columns]"
      ]
     },
     "execution_count": 29,
     "metadata": {},
     "output_type": "execute_result"
    }
   ],
   "source": [
    "data_train_norm"
   ]
  },
  {
   "cell_type": "markdown",
   "metadata": {},
   "source": [
    "# TF-IDF Model\n",
    "\n",
    "- [**Text Vectorization**](#Text-Vectorization)\n",
    "- [**TF-IDF Baseline Modeling**](#TF-IDF-Baseline-Modeling)\n",
    "- [**TF-IDF Hyperparameter Tuning**](#TF-IDF-Hyperparameter-Tuning)"
   ]
  },
  {
   "cell_type": "markdown",
   "metadata": {},
   "source": [
    "## Text Vectorization"
   ]
  },
  {
   "cell_type": "markdown",
   "metadata": {},
   "source": [
    "In order to perform machine learning on text data, we must transform the documents into vector representations. In [**natural language processing**](https://en.wikipedia.org/wiki/Natural_language_processing), **text vectorization** is the process of converting words, sentences, or even larger units of text data to numerical vectors."
   ]
  },
  {
   "cell_type": "code",
   "execution_count": 30,
   "metadata": {},
   "outputs": [],
   "source": [
    "# Features and labels\n",
    "X_train_norm, y_train = (\n",
    "    data_train_norm[\"normalized description\"].tolist(),\n",
    "    data_train_norm[\"label\"].tolist(),\n",
    ")\n",
    "X_val_norm, y_val = (\n",
    "    data_val_norm[\"normalized description\"].tolist(),\n",
    "    data_val_norm[\"label\"].tolist(),\n",
    ")\n",
    "X_test_norm, y_test = (\n",
    "    data_test_norm[\"normalized description\"].tolist(),\n",
    "    data_test_norm[\"label\"].tolist(),\n",
    ")"
   ]
  },
  {
   "cell_type": "code",
   "execution_count": 31,
   "metadata": {},
   "outputs": [],
   "source": [
    "# TF-IDF vectorization\n",
    "TfidfVec = TfidfVectorizer(ngram_range=(1, 1))\n",
    "X_train_tfidf = TfidfVec.fit_transform(X_train_norm)\n",
    "X_val_tfidf = TfidfVec.transform(X_val_norm)\n",
    "X_test_tfidf = TfidfVec.transform(X_test_norm)"
   ]
  },
  {
   "cell_type": "markdown",
   "metadata": {},
   "source": [
    "## TF-IDF Baseline Modeling"
   ]
  },
  {
   "cell_type": "code",
   "execution_count": 32,
   "metadata": {},
   "outputs": [],
   "source": [
    "# Classifiers\n",
    "names = [\n",
    "    \"Logistic Regression\",\n",
    "    \"KNN Classifier\",\n",
    "    \"Decision Tree\",\n",
    "    \"Linear SVM\",\n",
    "    \"Random Forest\",\n",
    "    \"SGD Classifier\",\n",
    "    \"Ridge Classifier\",\n",
    "    \"XGBoost\",\n",
    "    \"AdaBoost\",\n",
    "]\n",
    "\n",
    "models = [\n",
    "    LogisticRegression(max_iter=1000),\n",
    "    KNeighborsClassifier(n_neighbors=149, n_jobs=-1),\n",
    "    DecisionTreeClassifier(),\n",
    "    svm.SVC(kernel=\"linear\"),\n",
    "    RandomForestClassifier(n_estimators=100),\n",
    "    SGDClassifier(loss=\"hinge\"),\n",
    "    RidgeClassifier(),\n",
    "    XGBClassifier(),\n",
    "    AdaBoostClassifier(),\n",
    "]"
   ]
  },
  {
   "cell_type": "markdown",
   "metadata": {},
   "source": [
    "## MLFLOW"
   ]
  },
  {
   "cell_type": "code",
   "execution_count": 33,
   "metadata": {},
   "outputs": [],
   "source": [
    "# Set the MLflow tracking URI to your MLflow server\n",
    "mlflow.set_tracking_uri(\"http://127.0.0.1:5000\")\n",
    "\n",
    "# Create an experiment if not exists\n",
    "exp_name = \"e-commerce-text-classification\"\n",
    "experiment = mlflow.get_experiment_by_name(exp_name)\n",
    "if not experiment:\n",
    "    experiment_id = mlflow.create_experiment(exp_name)\n",
    "else:\n",
    "    experiment_id = experiment.experiment_id"
   ]
  },
  {
   "cell_type": "code",
   "execution_count": 34,
   "metadata": {},
   "outputs": [
    {
     "name": "stderr",
     "output_type": "stream",
     "text": [
      "\u001b[32m2024-08-07 23:51:50.883\u001b[0m | \u001b[1mINFO    \u001b[0m | \u001b[36msrc.train\u001b[0m:\u001b[36mscore\u001b[0m:\u001b[36m157\u001b[0m - Trained Logistic Regression model\n",
      "\u001b[32m2024-08-07 23:51:50.915\u001b[0m | \u001b[1mINFO    \u001b[0m | \u001b[36msrc.train\u001b[0m:\u001b[36mscore\u001b[0m:\u001b[36m165\u001b[0m - Logistic Regression - Training accuracy: 0.9669978867856661\n",
      "\u001b[32m2024-08-07 23:51:50.916\u001b[0m | \u001b[1mINFO    \u001b[0m | \u001b[36msrc.train\u001b[0m:\u001b[36mscore\u001b[0m:\u001b[36m166\u001b[0m - Logistic Regression - Validation accuracy: 0.943884892086331\n",
      "\u001b[32m2024-08-07 23:51:54.598\u001b[0m | \u001b[1mINFO    \u001b[0m | \u001b[36msrc.train\u001b[0m:\u001b[36mscore\u001b[0m:\u001b[36m157\u001b[0m - Trained KNN Classifier model\n",
      "\u001b[32m2024-08-07 23:52:15.082\u001b[0m | \u001b[1mINFO    \u001b[0m | \u001b[36msrc.train\u001b[0m:\u001b[36mscore\u001b[0m:\u001b[36m165\u001b[0m - KNN Classifier - Training accuracy: 0.9161008947439414\n",
      "\u001b[32m2024-08-07 23:52:15.083\u001b[0m | \u001b[1mINFO    \u001b[0m | \u001b[36msrc.train\u001b[0m:\u001b[36mscore\u001b[0m:\u001b[36m166\u001b[0m - KNN Classifier - Validation accuracy: 0.9050359712230216\n",
      "\u001b[32m2024-08-07 23:52:29.473\u001b[0m | \u001b[1mINFO    \u001b[0m | \u001b[36msrc.train\u001b[0m:\u001b[36mscore\u001b[0m:\u001b[36m157\u001b[0m - Trained Decision Tree model\n",
      "\u001b[32m2024-08-07 23:52:29.531\u001b[0m | \u001b[1mINFO    \u001b[0m | \u001b[36msrc.train\u001b[0m:\u001b[36mscore\u001b[0m:\u001b[36m165\u001b[0m - Decision Tree - Training accuracy: 0.999955037992896\n",
      "\u001b[32m2024-08-07 23:52:29.532\u001b[0m | \u001b[1mINFO    \u001b[0m | \u001b[36msrc.train\u001b[0m:\u001b[36mscore\u001b[0m:\u001b[36m166\u001b[0m - Decision Tree - Validation accuracy: 0.862589928057554\n",
      "\u001b[32m2024-08-07 23:53:23.719\u001b[0m | \u001b[1mINFO    \u001b[0m | \u001b[36msrc.train\u001b[0m:\u001b[36mscore\u001b[0m:\u001b[36m157\u001b[0m - Trained Linear SVM model\n",
      "\u001b[32m2024-08-07 23:54:13.995\u001b[0m | \u001b[1mINFO    \u001b[0m | \u001b[36msrc.train\u001b[0m:\u001b[36mscore\u001b[0m:\u001b[36m165\u001b[0m - Linear SVM - Training accuracy: 0.9781934265545614\n",
      "\u001b[32m2024-08-07 23:54:13.996\u001b[0m | \u001b[1mINFO    \u001b[0m | \u001b[36msrc.train\u001b[0m:\u001b[36mscore\u001b[0m:\u001b[36m166\u001b[0m - Linear SVM - Validation accuracy: 0.9525179856115108\n",
      "\u001b[32m2024-08-07 23:55:09.218\u001b[0m | \u001b[1mINFO    \u001b[0m | \u001b[36msrc.train\u001b[0m:\u001b[36mscore\u001b[0m:\u001b[36m157\u001b[0m - Trained Random Forest model\n",
      "\u001b[32m2024-08-07 23:55:10.759\u001b[0m | \u001b[1mINFO    \u001b[0m | \u001b[36msrc.train\u001b[0m:\u001b[36mscore\u001b[0m:\u001b[36m165\u001b[0m - Random Forest - Training accuracy: 0.999955037992896\n",
      "\u001b[32m2024-08-07 23:55:10.759\u001b[0m | \u001b[1mINFO    \u001b[0m | \u001b[36msrc.train\u001b[0m:\u001b[36mscore\u001b[0m:\u001b[36m166\u001b[0m - Random Forest - Validation accuracy: 0.9316546762589928\n",
      "\u001b[32m2024-08-07 23:55:14.099\u001b[0m | \u001b[1mINFO    \u001b[0m | \u001b[36msrc.train\u001b[0m:\u001b[36mscore\u001b[0m:\u001b[36m157\u001b[0m - Trained SGD Classifier model\n",
      "\u001b[32m2024-08-07 23:55:14.135\u001b[0m | \u001b[1mINFO    \u001b[0m | \u001b[36msrc.train\u001b[0m:\u001b[36mscore\u001b[0m:\u001b[36m165\u001b[0m - SGD Classifier - Training accuracy: 0.967762240906434\n",
      "\u001b[32m2024-08-07 23:55:14.136\u001b[0m | \u001b[1mINFO    \u001b[0m | \u001b[36msrc.train\u001b[0m:\u001b[36mscore\u001b[0m:\u001b[36m166\u001b[0m - SGD Classifier - Validation accuracy: 0.9517985611510792\n",
      "\u001b[32m2024-08-07 23:55:18.004\u001b[0m | \u001b[1mINFO    \u001b[0m | \u001b[36msrc.train\u001b[0m:\u001b[36mscore\u001b[0m:\u001b[36m157\u001b[0m - Trained Ridge Classifier model\n",
      "\u001b[32m2024-08-07 23:55:18.058\u001b[0m | \u001b[1mINFO    \u001b[0m | \u001b[36msrc.train\u001b[0m:\u001b[36mscore\u001b[0m:\u001b[36m165\u001b[0m - Ridge Classifier - Training accuracy: 0.983633829414145\n",
      "\u001b[32m2024-08-07 23:55:18.063\u001b[0m | \u001b[1mINFO    \u001b[0m | \u001b[36msrc.train\u001b[0m:\u001b[36mscore\u001b[0m:\u001b[36m166\u001b[0m - Ridge Classifier - Validation accuracy: 0.9539568345323741\n",
      "\u001b[32m2024-08-07 23:56:39.858\u001b[0m | \u001b[1mINFO    \u001b[0m | \u001b[36msrc.train\u001b[0m:\u001b[36mscore\u001b[0m:\u001b[36m157\u001b[0m - Trained XGBoost model\n",
      "\u001b[32m2024-08-07 23:56:40.011\u001b[0m | \u001b[1mINFO    \u001b[0m | \u001b[36msrc.train\u001b[0m:\u001b[36mscore\u001b[0m:\u001b[36m165\u001b[0m - XGBoost - Training accuracy: 0.9625916100894744\n",
      "\u001b[32m2024-08-07 23:56:40.012\u001b[0m | \u001b[1mINFO    \u001b[0m | \u001b[36msrc.train\u001b[0m:\u001b[36mscore\u001b[0m:\u001b[36m166\u001b[0m - XGBoost - Validation accuracy: 0.9226618705035972\n",
      "/home/ass-niang/.local/lib/python3.10/site-packages/sklearn/ensemble/_weight_boosting.py:527: FutureWarning:\n",
      "\n",
      "The SAMME.R algorithm (the default) is deprecated and will be removed in 1.6. Use the SAMME algorithm to circumvent this warning.\n",
      "\n",
      "\u001b[32m2024-08-07 23:56:48.775\u001b[0m | \u001b[1mINFO    \u001b[0m | \u001b[36msrc.train\u001b[0m:\u001b[36mscore\u001b[0m:\u001b[36m157\u001b[0m - Trained AdaBoost model\n",
      "\u001b[32m2024-08-07 23:56:49.183\u001b[0m | \u001b[1mINFO    \u001b[0m | \u001b[36msrc.train\u001b[0m:\u001b[36mscore\u001b[0m:\u001b[36m165\u001b[0m - AdaBoost - Training accuracy: 0.8095409379074682\n",
      "\u001b[32m2024-08-07 23:56:49.183\u001b[0m | \u001b[1mINFO    \u001b[0m | \u001b[36msrc.train\u001b[0m:\u001b[36mscore\u001b[0m:\u001b[36m166\u001b[0m - AdaBoost - Validation accuracy: 0.7863309352517985\n",
      "\u001b[32m2024-08-07 23:56:51.207\u001b[0m | \u001b[1mINFO    \u001b[0m | \u001b[36msrc.train\u001b[0m:\u001b[36mscore\u001b[0m:\u001b[36m177\u001b[0m - Completed scoring in 311.3384540081024 seconds\n"
     ]
    },
    {
     "data": {
      "text/html": [
       "<div>\n",
       "<style scoped>\n",
       "    .dataframe tbody tr th:only-of-type {\n",
       "        vertical-align: middle;\n",
       "    }\n",
       "\n",
       "    .dataframe tbody tr th {\n",
       "        vertical-align: top;\n",
       "    }\n",
       "\n",
       "    .dataframe thead th {\n",
       "        text-align: right;\n",
       "    }\n",
       "</style>\n",
       "<table border=\"1\" class=\"dataframe\">\n",
       "  <thead>\n",
       "    <tr style=\"text-align: right;\">\n",
       "      <th></th>\n",
       "      <th>Classifier</th>\n",
       "      <th>Training accuracy</th>\n",
       "      <th>Validation accuracy</th>\n",
       "    </tr>\n",
       "  </thead>\n",
       "  <tbody>\n",
       "    <tr>\n",
       "      <th>6</th>\n",
       "      <td>Ridge Classifier</td>\n",
       "      <td>0.983634</td>\n",
       "      <td>0.953957</td>\n",
       "    </tr>\n",
       "    <tr>\n",
       "      <th>3</th>\n",
       "      <td>Linear SVM</td>\n",
       "      <td>0.978193</td>\n",
       "      <td>0.952518</td>\n",
       "    </tr>\n",
       "    <tr>\n",
       "      <th>5</th>\n",
       "      <td>SGD Classifier</td>\n",
       "      <td>0.967762</td>\n",
       "      <td>0.951799</td>\n",
       "    </tr>\n",
       "    <tr>\n",
       "      <th>0</th>\n",
       "      <td>Logistic Regression</td>\n",
       "      <td>0.966998</td>\n",
       "      <td>0.943885</td>\n",
       "    </tr>\n",
       "    <tr>\n",
       "      <th>4</th>\n",
       "      <td>Random Forest</td>\n",
       "      <td>0.999955</td>\n",
       "      <td>0.931655</td>\n",
       "    </tr>\n",
       "    <tr>\n",
       "      <th>7</th>\n",
       "      <td>XGBoost</td>\n",
       "      <td>0.962592</td>\n",
       "      <td>0.922662</td>\n",
       "    </tr>\n",
       "    <tr>\n",
       "      <th>1</th>\n",
       "      <td>KNN Classifier</td>\n",
       "      <td>0.916101</td>\n",
       "      <td>0.905036</td>\n",
       "    </tr>\n",
       "    <tr>\n",
       "      <th>2</th>\n",
       "      <td>Decision Tree</td>\n",
       "      <td>0.999955</td>\n",
       "      <td>0.862590</td>\n",
       "    </tr>\n",
       "    <tr>\n",
       "      <th>8</th>\n",
       "      <td>AdaBoost</td>\n",
       "      <td>0.809541</td>\n",
       "      <td>0.786331</td>\n",
       "    </tr>\n",
       "  </tbody>\n",
       "</table>\n",
       "</div>"
      ],
      "text/plain": [
       "            Classifier  Training accuracy  Validation accuracy\n",
       "6     Ridge Classifier           0.983634             0.953957\n",
       "3           Linear SVM           0.978193             0.952518\n",
       "5       SGD Classifier           0.967762             0.951799\n",
       "0  Logistic Regression           0.966998             0.943885\n",
       "4        Random Forest           0.999955             0.931655\n",
       "7              XGBoost           0.962592             0.922662\n",
       "1       KNN Classifier           0.916101             0.905036\n",
       "2        Decision Tree           0.999955             0.862590\n",
       "8             AdaBoost           0.809541             0.786331"
      ]
     },
     "execution_count": 34,
     "metadata": {},
     "output_type": "execute_result"
    }
   ],
   "source": [
    "# Summary of baseline models\n",
    "config = {\n",
    "    \"x_train\": X_train_tfidf,\n",
    "    \"y_train\": y_train,\n",
    "    \"x_val\": X_val_tfidf,\n",
    "    \"y_val\": y_val,\n",
    "    \"names\": names,\n",
    "    \"models\": models,\n",
    "    \"experiment_id\": experiment_id,\n",
    "    \"current_date\": CURRENT_DATE\n",
    "}\n",
    "\n",
    "results = score(config)\n",
    "results"
   ]
  },
  {
   "cell_type": "markdown",
   "metadata": {},
   "source": [
    "## Hyperparameter Tuning"
   ]
  },
  {
   "cell_type": "markdown",
   "metadata": {},
   "source": [
    "We perform **hyperparameter tuning** on the best performing baseline model."
   ]
  },
  {
   "cell_type": "code",
   "execution_count": 35,
   "metadata": {},
   "outputs": [
    {
     "name": "stderr",
     "output_type": "stream",
     "text": [
      "\u001b[32m2024-08-07 23:56:51.223\u001b[0m | \u001b[1mINFO    \u001b[0m | \u001b[36msrc.train\u001b[0m:\u001b[36mtune_ridge_classifier\u001b[0m:\u001b[36m208\u001b[0m - Gridpoint #1: {'alpha': 0.1, 'solver': 'auto'}\n",
      "\u001b[32m2024-08-07 23:56:58.017\u001b[0m | \u001b[1mINFO    \u001b[0m | \u001b[36msrc.train\u001b[0m:\u001b[36mtune_ridge_classifier\u001b[0m:\u001b[36m225\u001b[0m - Training accuracy: 0.9974371655950721, Validation accuracy: 0.9510791366906475, Runtime: 0m6s\n",
      "\u001b[32m2024-08-07 23:57:00.254\u001b[0m | \u001b[1mINFO    \u001b[0m | \u001b[36msrc.train\u001b[0m:\u001b[36mtune_ridge_classifier\u001b[0m:\u001b[36m208\u001b[0m - Gridpoint #2: {'alpha': 0.5, 'solver': 'auto'}\n",
      "\u001b[32m2024-08-07 23:57:02.461\u001b[0m | \u001b[1mINFO    \u001b[0m | \u001b[36msrc.train\u001b[0m:\u001b[36mtune_ridge_classifier\u001b[0m:\u001b[36m225\u001b[0m - Training accuracy: 0.9895688143518727, Validation accuracy: 0.9532374100719424, Runtime: 0m2s\n",
      "\u001b[32m2024-08-07 23:57:04.666\u001b[0m | \u001b[1mINFO    \u001b[0m | \u001b[36msrc.train\u001b[0m:\u001b[36mtune_ridge_classifier\u001b[0m:\u001b[36m208\u001b[0m - Gridpoint #3: {'alpha': 0.7, 'solver': 'auto'}\n",
      "\u001b[32m2024-08-07 23:57:06.775\u001b[0m | \u001b[1mINFO    \u001b[0m | \u001b[36msrc.train\u001b[0m:\u001b[36mtune_ridge_classifier\u001b[0m:\u001b[36m225\u001b[0m - Training accuracy: 0.9870959039611529, Validation accuracy: 0.9532374100719424, Runtime: 0m2s\n",
      "\u001b[32m2024-08-07 23:57:09.139\u001b[0m | \u001b[1mINFO    \u001b[0m | \u001b[36msrc.train\u001b[0m:\u001b[36mtune_ridge_classifier\u001b[0m:\u001b[36m208\u001b[0m - Gridpoint #4: {'alpha': 0.9, 'solver': 'auto'}\n",
      "\u001b[32m2024-08-07 23:57:10.972\u001b[0m | \u001b[1mINFO    \u001b[0m | \u001b[36msrc.train\u001b[0m:\u001b[36mtune_ridge_classifier\u001b[0m:\u001b[36m225\u001b[0m - Training accuracy: 0.985027651634369, Validation accuracy: 0.9539568345323741, Runtime: 0m1s\n",
      "\u001b[32m2024-08-07 23:57:13.308\u001b[0m | \u001b[1mINFO    \u001b[0m | \u001b[36msrc.train\u001b[0m:\u001b[36mtune_ridge_classifier\u001b[0m:\u001b[36m208\u001b[0m - Gridpoint #5: {'alpha': 1.1, 'solver': 'auto'}\n",
      "\u001b[32m2024-08-07 23:57:15.122\u001b[0m | \u001b[1mINFO    \u001b[0m | \u001b[36msrc.train\u001b[0m:\u001b[36mtune_ridge_classifier\u001b[0m:\u001b[36m225\u001b[0m - Training accuracy: 0.9823748932152331, Validation accuracy: 0.9539568345323741, Runtime: 0m1s\n",
      "\u001b[32m2024-08-07 23:57:17.347\u001b[0m | \u001b[1mINFO    \u001b[0m | \u001b[36msrc.train\u001b[0m:\u001b[36mtune_ridge_classifier\u001b[0m:\u001b[36m208\u001b[0m - Gridpoint #6: {'alpha': 1.3, 'solver': 'auto'}\n",
      "\u001b[32m2024-08-07 23:57:19.034\u001b[0m | \u001b[1mINFO    \u001b[0m | \u001b[36msrc.train\u001b[0m:\u001b[36mtune_ridge_classifier\u001b[0m:\u001b[36m225\u001b[0m - Training accuracy: 0.9800368688458253, Validation accuracy: 0.9543165467625899, Runtime: 0m1s\n",
      "\u001b[32m2024-08-07 23:57:21.054\u001b[0m | \u001b[1mINFO    \u001b[0m | \u001b[36msrc.train\u001b[0m:\u001b[36mtune_ridge_classifier\u001b[0m:\u001b[36m208\u001b[0m - Gridpoint #7: {'alpha': 1.5, 'solver': 'auto'}\n",
      "\u001b[32m2024-08-07 23:57:22.494\u001b[0m | \u001b[1mINFO    \u001b[0m | \u001b[36msrc.train\u001b[0m:\u001b[36mtune_ridge_classifier\u001b[0m:\u001b[36m225\u001b[0m - Training accuracy: 0.9786430466256014, Validation accuracy: 0.9535971223021583, Runtime: 0m1s\n",
      "\u001b[32m2024-08-07 23:57:24.504\u001b[0m | \u001b[1mINFO    \u001b[0m | \u001b[36msrc.train\u001b[0m:\u001b[36mtune_ridge_classifier\u001b[0m:\u001b[36m208\u001b[0m - Gridpoint #8: {'alpha': 1.7, 'solver': 'auto'}\n",
      "\u001b[32m2024-08-07 23:57:26.123\u001b[0m | \u001b[1mINFO    \u001b[0m | \u001b[36msrc.train\u001b[0m:\u001b[36mtune_ridge_classifier\u001b[0m:\u001b[36m225\u001b[0m - Training accuracy: 0.9772492244053774, Validation accuracy: 0.9539568345323741, Runtime: 0m1s\n",
      "\u001b[32m2024-08-07 23:57:28.282\u001b[0m | \u001b[1mINFO    \u001b[0m | \u001b[36msrc.train\u001b[0m:\u001b[36mtune_ridge_classifier\u001b[0m:\u001b[36m208\u001b[0m - Gridpoint #9: {'alpha': 1.9, 'solver': 'auto'}\n",
      "\u001b[32m2024-08-07 23:57:29.541\u001b[0m | \u001b[1mINFO    \u001b[0m | \u001b[36msrc.train\u001b[0m:\u001b[36mtune_ridge_classifier\u001b[0m:\u001b[36m225\u001b[0m - Training accuracy: 0.9760802122206735, Validation accuracy: 0.9528776978417266, Runtime: 0m1s\n",
      "\u001b[32m2024-08-07 23:57:32.960\u001b[0m | \u001b[1mINFO    \u001b[0m | \u001b[36msrc.train\u001b[0m:\u001b[36mtune_ridge_classifier\u001b[0m:\u001b[36m251\u001b[0m - Best model: RidgeClassifier(alpha=1.3)\n",
      "\u001b[32m2024-08-07 23:57:32.962\u001b[0m | \u001b[1mINFO    \u001b[0m | \u001b[36msrc.train\u001b[0m:\u001b[36mtune_ridge_classifier\u001b[0m:\u001b[36m252\u001b[0m - Best parameters: {'alpha': 1.3, 'solver': 'auto'}\n",
      "\u001b[32m2024-08-07 23:57:32.963\u001b[0m | \u001b[1mINFO    \u001b[0m | \u001b[36msrc.train\u001b[0m:\u001b[36mtune_ridge_classifier\u001b[0m:\u001b[36m253\u001b[0m - Best validation accuracy: 0.9543165467625899\n"
     ]
    }
   ],
   "source": [
    "ridge_config = {\n",
    "    \"x_train_tfidf\": X_train_tfidf,\n",
    "    \"y_train\": y_train,\n",
    "    \"x_val_tfidf\": X_val_tfidf,\n",
    "    \"y_val\": y_val,\n",
    "    \"experiment_id\": experiment_id,\n",
    "    \"current_date\": CURRENT_DATE\n",
    "}\n",
    "\n",
    "best_model_tfidf, best_params_ridge, best_score_ridge = tune_ridge_classifier(ridge_config)"
   ]
  },
  {
   "cell_type": "markdown",
   "metadata": {},
   "source": [
    "# Final Prediction and Evaluation"
   ]
  },
  {
   "cell_type": "markdown",
   "metadata": {},
   "source": [
    "We employ the model with the highest validation accuracy to predict the labels of the test observations and report the resulting test accuracy and confusion matrix."
   ]
  },
  {
   "cell_type": "code",
   "execution_count": 38,
   "metadata": {},
   "outputs": [],
   "source": [
    "best_model, X_train_vec, X_test_vec = best_model_tfidf, X_train_tfidf, X_test_tfidf"
   ]
  },
  {
   "cell_type": "code",
   "execution_count": 39,
   "metadata": {},
   "outputs": [
    {
     "name": "stderr",
     "output_type": "stream",
     "text": [
      "\u001b[32m2024-08-07 23:57:35.187\u001b[0m | \u001b[1mINFO    \u001b[0m | \u001b[36msrc.train\u001b[0m:\u001b[36mevaluate_model\u001b[0m:\u001b[36m316\u001b[0m - Starting prediction and evaluation on the test set\n"
     ]
    },
    {
     "name": "stderr",
     "output_type": "stream",
     "text": [
      "\u001b[32m2024-08-07 23:57:37.761\u001b[0m | \u001b[1mINFO    \u001b[0m | \u001b[36msrc.train\u001b[0m:\u001b[36mevaluate_model\u001b[0m:\u001b[36m320\u001b[0m - Test accuracy: 0.948220064724919\n"
     ]
    },
    {
     "data": {
      "image/png": "[encoded data removed]",
      "text/plain": [
       "<Figure size 1000x800 with 2 Axes>"
      ]
     },
     "metadata": {},
     "output_type": "display_data"
    }
   ],
   "source": [
    "eval_config = {\n",
    "    \"best_model\": best_model,\n",
    "    \"x_train_vec\": X_train_vec,\n",
    "    \"y_train\": y_train,\n",
    "    \"x_test_vec\": X_test_vec,\n",
    "    \"y_test\": y_test,\n",
    "    \"experiment_id\": experiment_id,\n",
    "    \"current_date\": CURRENT_DATE,\n",
    "    \"save_path\": save_path\n",
    "}\n",
    "\n",
    "\n",
    "evaluate_model(eval_config)"
   ]
  },
  {
   "cell_type": "code",
   "execution_count": 40,
   "metadata": {},
   "outputs": [],
   "source": [
    "# # Prediction and evaluation on the test set\n",
    "# logger.info(\"Starting prediction and evaluation on the test set\")\n",
    "# best_model.fit(X_train_vec, y_train)\n",
    "# y_test_pred = best_model.predict(X_test_vec)\n",
    "# score_test = accuracy_score(y_test, y_test_pred)\n",
    "# logger.info(f\"Test accuracy: {score_test}\")\n",
    "\n",
    "# # Log the test accuracy to mlflow\n",
    "# with mlflow.start_run(run_name=f\"{CURRENT_DATE.strftime('%Y%m%d_%H%m%S')}-ecommerce-Best_RidgeClassifier_Model_Test_Evaluation\",\n",
    "#                             experiment_id=experiment_id,\n",
    "#                             tags={\"version\": \"v1\", \"priority\": \"P1\"},\n",
    "#                             description=\"ecommerce text classification. Best RidgeClassifier model test evaluation\",\n",
    "#                             ) as mlf_run:\n",
    "#     mlflow.log_metric(\"test_accuracy\", score_test)\n",
    "#     mlflow.sklearn.log_model(best_model_tfidf, \"best_model\")\n",
    "\n",
    "# # Plot the confusion matrix and save it as an image\n",
    "# conf_matrix_path = os.path.join(\"../reports\", 'confusion_matrix.png')\n",
    "# conf_mat(y_test, y_test_pred, figsize=(10, 8), font_scale=1.2, annot_kws_size=16, save_path=conf_matrix_path)"
   ]
  },
  {
   "cell_type": "code",
   "execution_count": 41,
   "metadata": {},
   "outputs": [
    {
     "name": "stderr",
     "output_type": "stream",
     "text": [
      "\u001b[32m2024-08-07 23:57:40.317\u001b[0m | \u001b[1mINFO    \u001b[0m | \u001b[36m__main__\u001b[0m:\u001b[36m<module>\u001b[0m:\u001b[36m9\u001b[0m - Process runtime: 641.69 seconds\n",
      "\u001b[32m2024-08-07 23:57:40.318\u001b[0m | \u001b[1mINFO    \u001b[0m | \u001b[36m__main__\u001b[0m:\u001b[36m<module>\u001b[0m:\u001b[36m12\u001b[0m - Process memory usage: 1307.07 MB\n"
     ]
    }
   ],
   "source": [
    "# Record the stopping time\n",
    "stop = time.time()\n",
    "\n",
    "# Calculate runtime and memory usage\n",
    "runtime = \"{:.2f} seconds\".format(stop - start)\n",
    "memory_usage = \"{:.2f} MB\".format(process.memory_info().rss / (1024 * 1024))\n",
    "\n",
    "# Log runtime\n",
    "logger.info(f\"Process runtime: {runtime}\")\n",
    "\n",
    "# Log memory usage\n",
    "logger.info(f\"Process memory usage: {memory_usage}\")"
   ]
  },
  {
   "cell_type": "markdown",
   "metadata": {},
   "source": [
    "# Export the model"
   ]
  },
  {
   "cell_type": "code",
   "execution_count": 45,
   "metadata": {},
   "outputs": [
    {
     "name": "stderr",
     "output_type": "stream",
     "text": [
      "\u001b[32m2024-08-08 00:59:46.292\u001b[0m | \u001b[1mINFO    \u001b[0m | \u001b[36msrc.utils\u001b[0m:\u001b[36msave_object_with_pickle\u001b[0m:\u001b[36m21\u001b[0m - Starting object record in /home/ass-niang/Desktop/mlops-project/models/classifier.pkl\n",
      "\u001b[32m2024-08-08 00:59:46.297\u001b[0m | \u001b[1mINFO    \u001b[0m | \u001b[36msrc.utils\u001b[0m:\u001b[36msave_object_with_pickle\u001b[0m:\u001b[36m29\u001b[0m - Done object record successfully\n",
      "\u001b[32m2024-08-08 00:59:46.298\u001b[0m | \u001b[1mINFO    \u001b[0m | \u001b[36msrc.utils\u001b[0m:\u001b[36msave_object_with_pickle\u001b[0m:\u001b[36m21\u001b[0m - Starting object record in /home/ass-niang/Desktop/mlops-project/models/tfidf_vectorizer.pkl\n",
      "\u001b[32m2024-08-08 00:59:46.316\u001b[0m | \u001b[1mINFO    \u001b[0m | \u001b[36msrc.utils\u001b[0m:\u001b[36msave_object_with_pickle\u001b[0m:\u001b[36m29\u001b[0m - Done object record successfully\n"
     ]
    }
   ],
   "source": [
    "# Save the classifier\n",
    "classifier_path = project_dir + \"/models/classifier.pkl\"\n",
    "save_object_with_pickle(object_to_save=best_model_tfidf, object_path=classifier_path)\n",
    "\n",
    "# Save the vectorizer\n",
    "vectorizer_path = project_dir + \"/models/tfidf_vectorizer.pkl\"\n",
    "save_object_with_pickle(object_to_save=TfidfVec, object_path=vectorizer_path)"
   ]
  },
  {
   "cell_type": "code",
   "execution_count": null,
   "metadata": {},
   "outputs": [],
   "source": []
  },
  {
   "cell_type": "code",
   "execution_count": 43,
   "metadata": {},
   "outputs": [],
   "source": [
    "import types\n",
    "\n",
    "\n",
    "def imports():\n",
    "    for name, val in globals().items():\n",
    "        if isinstance(val, types.ModuleType):\n",
    "            yield val.__name__"
   ]
  },
  {
   "cell_type": "code",
   "execution_count": 44,
   "metadata": {},
   "outputs": [
    {
     "name": "stdout",
     "output_type": "stream",
     "text": [
      "builtins\n",
      "builtins\n",
      "time\n",
      "os\n",
      "psutil\n",
      "pendulum\n",
      "pandas\n",
      "numpy\n",
      "plotly.graph_objects\n",
      "matplotlib.pyplot\n",
      "seaborn\n",
      "mlflow\n",
      "sklearn.metrics\n",
      "sklearn.svm\n",
      "sys\n",
      "re\n",
      "string\n",
      "nltk\n",
      "spacy\n",
      "types\n"
     ]
    }
   ],
   "source": [
    "for i in list(imports()):\n",
    "    print(i)"
   ]
  },
  {
   "cell_type": "code",
   "execution_count": null,
   "metadata": {},
   "outputs": [],
   "source": []
  }
 ],
 "metadata": {
  "kernelspec": {
   "display_name": "Python 3",
   "language": "python",
   "name": "python3"
  },
  "language_info": {
   "codemirror_mode": {
    "name": "ipython",
    "version": 3
   },
   "file_extension": ".py",
   "mimetype": "text/x-python",
   "name": "python",
   "nbconvert_exporter": "python",
   "pygments_lexer": "ipython3",
   "version": "3.10.12"
  }
 },
 "nbformat": 4,
 "nbformat_minor": 2
}
